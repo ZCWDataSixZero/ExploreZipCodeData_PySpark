{
 "cells": [
  {
   "cell_type": "code",
   "execution_count": null,
   "id": "3bda33c3",
   "metadata": {},
   "outputs": [],
   "source": [
    "import kagglehub # might need to pip install kagglehub\n",
    "import shutil\n",
    "import os #thus\n",
    "import pandas as pd\n",
    "import matplotlib.pyplot as plt\n",
    "import seaborn as sns\n",
    "from pyspark.sql.functions import col, avg, max, min, countDistinct, sum, round"
   ]
  },
  {
   "cell_type": "markdown",
   "id": "529b0e02",
   "metadata": {},
   "source": [
    "# don't run this part still working on it"
   ]
  },
  {
   "cell_type": "code",
   "execution_count": 12,
   "id": "76c4cfa3",
   "metadata": {},
   "outputs": [],
   "source": [
    "# # Don't \n",
    "\n",
    "# # Download the dataset to the current directory\n",
    "# try:\n",
    "#     # Replace with the correct dataset identifier\n",
    "#     path = kagglehub.dataset_download(\"erdi28/zip-codes-demographics\")\n",
    "#     print(f\"Dataset downloaded to: {path}\")\n",
    "\n",
    "#     # Save the dataset as a CSV file in the current directory\n",
    "#     for file_name in os.listdir(path):\n",
    "#         if file_name.endswith(\".csv\"):\n",
    "#             shutil.move(os.path.join(path, file_name), os.getcwd())\n",
    "#             print(f\"CSV file saved to: {os.path.join(os.getcwd(), file_name)}\")\n",
    "# except AttributeError as e:\n",
    "#     print(\"Error: The kagglehub module does not support the method used.\")\n",
    "#     print(\"Please check the documentation or update the library.\")\n",
    "# except Exception as e:\n",
    "#     print(f\"An error occurred: {e}\")"
   ]
  },
  {
   "cell_type": "code",
   "execution_count": 13,
   "id": "b10b5d0b",
   "metadata": {},
   "outputs": [],
   "source": [
    "## Set up PySpark environment\n",
    "from pyspark.sql import SparkSession"
   ]
  },
  {
   "cell_type": "code",
   "execution_count": 14,
   "id": "41756b34",
   "metadata": {},
   "outputs": [
    {
     "name": "stderr",
     "output_type": "stream",
     "text": [
      "25/04/18 10:51:59 WARN Utils: Your hostname, Zipcoders-MacBook-Pro-4.local resolves to a loopback address: 127.0.0.1; using 192.168.3.193 instead (on interface en0)\n",
      "25/04/18 10:51:59 WARN Utils: Set SPARK_LOCAL_IP if you need to bind to another address\n",
      "Setting default log level to \"WARN\".\n",
      "To adjust logging level use sc.setLogLevel(newLevel). For SparkR, use setLogLevel(newLevel).\n",
      "25/04/18 10:51:59 WARN NativeCodeLoader: Unable to load native-hadoop library for your platform... using builtin-java classes where applicable\n"
     ]
    },
    {
     "data": {
      "text/html": [
       "\n",
       "            <div>\n",
       "                <p><b>SparkSession - in-memory</b></p>\n",
       "                \n",
       "        <div>\n",
       "            <p><b>SparkContext</b></p>\n",
       "\n",
       "            <p><a href=\"http://192.168.3.193:4040\">Spark UI</a></p>\n",
       "\n",
       "            <dl>\n",
       "              <dt>Version</dt>\n",
       "                <dd><code>v3.5.5</code></dd>\n",
       "              <dt>Master</dt>\n",
       "                <dd><code>local[*]</code></dd>\n",
       "              <dt>AppName</dt>\n",
       "                <dd><code>ZipCode PySpark Learning</code></dd>\n",
       "            </dl>\n",
       "        </div>\n",
       "        \n",
       "            </div>\n",
       "        "
      ],
      "text/plain": [
       "<pyspark.sql.session.SparkSession at 0x127974dd0>"
      ]
     },
     "execution_count": 14,
     "metadata": {},
     "output_type": "execute_result"
    }
   ],
   "source": [
    "## Initialize the SparkSession\n",
    "# appName is the name of the application\n",
    "# getOrCreate() creates a new session or retrieves an existing one\n",
    "spark = SparkSession.builder \\\n",
    "    .appName(\"ZipCode PySpark Learning\") \\\n",
    "        .getOrCreate()\n",
    "\n",
    "## Verify that SparkSession is created\n",
    "spark"
   ]
  },
  {
   "cell_type": "markdown",
   "id": "9e998cae",
   "metadata": {},
   "source": [
    "## Pop by State -> in state pop by zip"
   ]
  },
  {
   "cell_type": "code",
   "execution_count": null,
   "id": "ce4fbc6b",
   "metadata": {},
   "outputs": [],
   "source": []
  },
  {
   "cell_type": "code",
   "execution_count": null,
   "id": "06d6a03a",
   "metadata": {},
   "outputs": [],
   "source": []
  },
  {
   "cell_type": "code",
   "execution_count": null,
   "id": "09b92168",
   "metadata": {},
   "outputs": [],
   "source": []
  },
  {
   "cell_type": "markdown",
   "id": "c2e8ede4",
   "metadata": {},
   "source": [
    "## AGI by buisness by zip"
   ]
  },
  {
   "cell_type": "markdown",
   "id": "ddac36dd-2891-439b-b5db-e244c6c1e559",
   "metadata": {},
   "source": [
    "Read the csv file and convert to spark."
   ]
  },
  {
   "cell_type": "code",
   "execution_count": 15,
   "id": "b3cb95ce",
   "metadata": {},
   "outputs": [],
   "source": [
    "df = spark.read.csv('/Users/jim/Projects/p1/ExploreZipCodeData_PySpark/data/zip_code_demographics.csv', header=True, inferSchema=True)"
   ]
  },
  {
   "cell_type": "code",
   "execution_count": 16,
   "id": "a7c8e976",
   "metadata": {},
   "outputs": [
    {
     "data": {
      "text/plain": [
       "[Row(zip=1001, lat=42.06262, lng=-72.62521, city='Agawam', state_id='MA', state_name='Massachusetts', population=16088, density=550.1, county_name='Hampden', po_box=0, dist_highway=1.38703489958776, dist2_large_airport=106.145765467407, dist2_medium_airport=12.9462123500772, dist_to_shore=93.0492507357679, number_of_business=438, adjusted_gross_income=598807, total_income_amount=604769.0, number_of_returns=9320),\n",
       " Row(zip=1002, lat=42.37633, lng=-72.46462, city='Amherst', state_id='MA', state_name='Massachusetts', population=27323, density=198.1, county_name='Hampshire', po_box=0, dist_highway=14.4381771787811, dist2_large_airport=112.264368137872, dist2_medium_airport=21.0800788136799, dist_to_shore=133.370143966814, number_of_business=571, adjusted_gross_income=989558, total_income_amount=1005796.0, number_of_returns=9880),\n",
       " Row(zip=1005, lat=42.42117, lng=-72.10655, city='Barre', state_id='MA', state_name='Massachusetts', population=4947, density=44.2, county_name='Worcester', po_box=0, dist_highway=16.7883389378764, dist2_large_airport=90.664964214599, dist2_medium_airport=25.5477180736873, dist_to_shore=97.6398810953817, number_of_business=97, adjusted_gross_income=164207, total_income_amount=166054.0, number_of_returns=2490),\n",
       " Row(zip=1007, lat=42.28163, lng=-72.40009, city='Belchertown', state_id='MA', state_name='Massachusetts', population=15304, density=107.7, county_name='Hampshire', po_box=0, dist_highway=13.663839468365, dist2_large_airport=101.552921217705, dist2_medium_airport=14.762395370048, dist_to_shore=114.406033754504, number_of_business=217, adjusted_gross_income=647074, total_income_amount=654739.0, number_of_returns=7970),\n",
       " Row(zip=1008, lat=42.18234, lng=-72.95819, city='Blandford', state_id='MA', state_name='Massachusetts', population=1171, density=7.4, county_name='Hampden', po_box=0, dist_highway=2.59365546872497, dist2_large_airport=136.54879743219, dist2_medium_airport=20.1779499690055, dist_to_shore=107.466779445914, number_of_business=18, adjusted_gross_income=47826, total_income_amount=48241.0001, number_of_returns=660),\n",
       " Row(zip=1010, lat=42.12904, lng=-72.20597, city='Brimfield', state_id='MA', state_name='Massachusetts', population=3703, density=40.6, county_name='Hampden', po_box=0, dist_highway=4.73727136188264, dist2_large_airport=78.6454995903817, dist2_medium_airport=28.0492624787917, dist_to_shore=94.9280235181023, number_of_business=73, adjusted_gross_income=155666, total_income_amount=157677.0, number_of_returns=1980),\n",
       " Row(zip=1011, lat=42.30233, lng=-72.96448, city='Chester', state_id='MA', state_name='Massachusetts', population=1332, density=15.7, county_name='Hampden', po_box=0, dist_highway=8.05869305726245, dist2_large_airport=142.414627001912, dist2_medium_airport=26.0419084149722, dist_to_shore=128.563170400209, number_of_business=13, adjusted_gross_income=38223, total_income_amount=38553.0, number_of_returns=630),\n",
       " Row(zip=1012, lat=42.38495, lng=-72.84675, city='Chesterfield', state_id='MA', state_name='Massachusetts', population=503, density=16.1, county_name='Hampshire', po_box=0, dist_highway=18.3310957824545, dist2_large_airport=138.381683922713, dist2_medium_airport=27.4666636064825, dist_to_shore=137.693284947624, number_of_business=10, adjusted_gross_income=24826, total_income_amount=25102.0, number_of_returns=410),\n",
       " Row(zip=1013, lat=42.16059, lng=-72.60788, city='Chicopee', state_id='MA', state_name='Massachusetts', population=22709, density=1549.1, county_name='Hampden', po_box=0, dist_highway=0.0622862708325111, dist2_large_airport=109.114246004907, dist2_medium_airport=7.07589281728133, dist_to_shore=104.576258028243, number_of_business=317, adjusted_gross_income=516431, total_income_amount=520174.0, number_of_returns=11270),\n",
       " Row(zip=1020, lat=42.17618, lng=-72.56538, city='Chicopee', state_id='MA', state_name='Massachusetts', population=30704, density=951.4, county_name='Hampden', po_box=0, dist_highway=0.925139778004274, dist2_large_airport=106.769094716986, dist2_medium_airport=3.20553313229515, dist_to_shore=105.789420653597, number_of_business=550, adjusted_gross_income=828125, total_income_amount=834614.0, number_of_returns=15760)]"
      ]
     },
     "execution_count": 16,
     "metadata": {},
     "output_type": "execute_result"
    }
   ],
   "source": [
    "df.head(10)"
   ]
  },
  {
   "cell_type": "markdown",
   "id": "070734dc-7641-4966-b5eb-896f992973f2",
   "metadata": {},
   "source": [
    "Make a dataset of only values pertaining to desired calculations."
   ]
  },
  {
   "cell_type": "code",
   "execution_count": 17,
   "id": "491ee755",
   "metadata": {},
   "outputs": [],
   "source": [
    "df_limited= df[['zip', 'city', 'state_id', 'number_of_business', 'adjusted_gross_income', 'total_income_amount']]\n",
    "# df_limited= df[['_c0', '_c3', '_c4', '_c14', '_c15', '_c16']]"
   ]
  },
  {
   "cell_type": "code",
   "execution_count": 18,
   "id": "c86d671c-1fcd-4aea-b172-2ff4b7ac4b68",
   "metadata": {},
   "outputs": [
    {
     "name": "stdout",
     "output_type": "stream",
     "text": [
      "root\n",
      " |-- zip: integer (nullable = true)\n",
      " |-- city: string (nullable = true)\n",
      " |-- state_id: string (nullable = true)\n",
      " |-- number_of_business: integer (nullable = true)\n",
      " |-- adjusted_gross_income: integer (nullable = true)\n",
      " |-- total_income_amount: double (nullable = true)\n",
      "\n"
     ]
    }
   ],
   "source": [
    "df_limited.printSchema()"
   ]
  },
  {
   "cell_type": "code",
   "execution_count": 19,
   "id": "a4d95350-fd76-47e2-ac6e-ec7da8cfa6f3",
   "metadata": {},
   "outputs": [
    {
     "name": "stderr",
     "output_type": "stream",
     "text": [
      "25/04/18 10:52:02 WARN SparkStringUtils: Truncated the string representation of a plan since it was too large. This behavior can be adjusted by setting 'spark.sql.debug.maxToStringFields'.\n"
     ]
    },
    {
     "name": "stdout",
     "output_type": "stream",
     "text": [
      "+-------+-----------------+------------------+---------------------+-------------------+\n",
      "|summary|              zip|number_of_business|adjusted_gross_income|total_income_amount|\n",
      "+-------+-----------------+------------------+---------------------+-------------------+\n",
      "|  count|            33704|             33624|                33704|              33704|\n",
      "|   mean|49842.60782103014| 260.6949202950274|   425134.10239140753| 429894.33857557003|\n",
      "| stddev|27451.11144214845|432.11281369671184|    756151.9395034771|  764441.5938419583|\n",
      "|    min|             1001|                 1|                  577|              577.0|\n",
      "|    25%|            27051|                19|                32471|         32873.0001|\n",
      "|    50%|            49776|                74|               112840|           114006.0|\n",
      "|    75%|            72206|               333|               505154|           509227.0|\n",
      "|    max|            99929|              7263|             15224673|        1.5277982E7|\n",
      "+-------+-----------------+------------------+---------------------+-------------------+\n",
      "\n"
     ]
    }
   ],
   "source": [
    "# df_limited.summary().show()\n",
    "numeric_cols = [c for c, t in df_limited.dtypes if t.startswith('string')==False]\n",
    "df_limited.select(*numeric_cols).summary().show()"
   ]
  },
  {
   "cell_type": "markdown",
   "id": "22bee248-6426-48d4-a2e4-32f3f747d4b6",
   "metadata": {},
   "source": [
    "Reviewing of data showed instances of number of businesses being null."
   ]
  },
  {
   "cell_type": "code",
   "execution_count": 20,
   "id": "32a3379d-2309-4817-901e-a44c7a1d8559",
   "metadata": {},
   "outputs": [
    {
     "name": "stdout",
     "output_type": "stream",
     "text": [
      "80\n",
      "+-----+--------------+--------+------------------+---------------------+-------------------+\n",
      "|  zip|          city|state_id|number_of_business|adjusted_gross_income|total_income_amount|\n",
      "+-----+--------------+--------+------------------+---------------------+-------------------+\n",
      "|12115| Malden Bridge|      NY|              NULL|                19103|         19154.0002|\n",
      "|14819|       Cameron|      NY|              NULL|                12293|         12320.0002|\n",
      "|15429|         Denbo|      PA|              NULL|                 4667|             4667.0|\n",
      "|16691| Wells Tannery|      PA|              NULL|                 8832|          8858.0004|\n",
      "|20606|         Abell|      MD|              NULL|                12492|         12533.0002|\n",
      "|22504|      Laneview|      VA|              NULL|                 6260|          6292.0003|\n",
      "|23068|    Hallieford|      VA|              NULL|                 8923|          8956.0002|\n",
      "|23488|       Withams|      VA|              NULL|                 3845|          3862.0001|\n",
      "|24167|Staffordsville|      VA|              NULL|                 6775|          6784.0003|\n",
      "|25007|        Arnett|      WV|              NULL|                 7498|          7512.0003|\n",
      "|25060|       Dorothy|      WV|              NULL|                 4648|             4648.0|\n",
      "|25142|        Nellis|      WV|              NULL|                 4657|             4657.0|\n",
      "|25169|     Ridgeview|      WV|              NULL|                 4993|          5004.0002|\n",
      "|25608|       Baisden|      WV|              NULL|                 7098|          7108.0003|\n",
      "|25902|           Odd|      WV|              NULL|                 4857|          4862.0002|\n",
      "|25908|    Princewick|      WV|              NULL|                 3735|             3735.0|\n",
      "|36317|       Clopton|      AL|              NULL|                 8559|          8593.0002|\n",
      "|36740|      Forkland|      AL|              NULL|                18019|         18145.0001|\n",
      "|37351|   Lupton City|      TN|              NULL|                 7755|          7818.0002|\n",
      "|37396|     Whiteside|      TN|              NULL|                 5690|          5698.0002|\n",
      "+-----+--------------+--------+------------------+---------------------+-------------------+\n",
      "only showing top 20 rows\n",
      "\n"
     ]
    }
   ],
   "source": [
    "print(33704-33624)\n",
    "df_limited.filter(col('number_of_business').isNull()).show()"
   ]
  },
  {
   "cell_type": "markdown",
   "id": "4e27a316-4916-468e-89ce-4037cbd1c01f",
   "metadata": {},
   "source": [
    "For the purposes of AGI in relation to number of businesses generated a dataset dropping instances of no businesses being recorded."
   ]
  },
  {
   "cell_type": "code",
   "execution_count": 21,
   "id": "24d510b9-223e-4932-b6bf-bee89f06403a",
   "metadata": {},
   "outputs": [],
   "source": [
    "df_AGI_v_Business = df_limited.na.drop(subset=['number_of_business'])"
   ]
  },
  {
   "cell_type": "code",
   "execution_count": 22,
   "id": "c2b2e9d6-47dc-4fbb-abb1-2693af127dfc",
   "metadata": {},
   "outputs": [
    {
     "name": "stdout",
     "output_type": "stream",
     "text": [
      "+-------+------------------+------------------+---------------------+-------------------+\n",
      "|summary|               zip|number_of_business|adjusted_gross_income|total_income_amount|\n",
      "+-------+------------------+------------------+---------------------+-------------------+\n",
      "|  count|             33624|             33624|                33624|              33624|\n",
      "|   mean|49841.581251487034| 260.6949202950274|     426128.850672139|  430900.3270977903|\n",
      "| stddev|27464.851381954184|432.11281369671184|    756775.5571880672|  765071.8628725683|\n",
      "|    min|              1001|                 1|                  577|              577.0|\n",
      "|    25%|             27046|                19|                32769|            33180.0|\n",
      "|    50%|             49781|                74|               113622|           115128.0|\n",
      "|    75%|             72223|               333|               505229|           510234.0|\n",
      "|    max|             99929|              7263|             15224673|        1.5277982E7|\n",
      "+-------+------------------+------------------+---------------------+-------------------+\n",
      "\n"
     ]
    }
   ],
   "source": [
    "numeric_cols = [c for c, t in df_AGI_v_Business.dtypes if t.startswith('string')==False]\n",
    "df_AGI_v_Business.select(*numeric_cols).summary().show()"
   ]
  },
  {
   "cell_type": "code",
   "execution_count": 23,
   "id": "db4783bf-3d60-4ecb-9b7b-cd625ae85dfa",
   "metadata": {},
   "outputs": [
    {
     "data": {
      "text/plain": [
       "pyspark.sql.dataframe.DataFrame"
      ]
     },
     "execution_count": 23,
     "metadata": {},
     "output_type": "execute_result"
    }
   ],
   "source": [
    "type(df_AGI_v_Business)"
   ]
  },
  {
   "cell_type": "markdown",
   "id": "eac7775b-8899-4582-8c64-de1d2ac1b504",
   "metadata": {},
   "source": [
    "Generate new column to show AGI per Business."
   ]
  },
  {
   "cell_type": "code",
   "execution_count": 24,
   "id": "cf54ba5c-0e77-4f0c-91c3-42691b4a9229",
   "metadata": {},
   "outputs": [],
   "source": [
    "df_AGI_v_Business = df_AGI_v_Business.select(\"*\", (col(\"adjusted_gross_income\") / col(\"number_of_business\")).alias(\"AGI per Business\"))"
   ]
  },
  {
   "cell_type": "code",
   "execution_count": 25,
   "id": "68af6c74-be55-4804-8566-56800dd7fa47",
   "metadata": {},
   "outputs": [
    {
     "name": "stdout",
     "output_type": "stream",
     "text": [
      "root\n",
      " |-- zip: integer (nullable = true)\n",
      " |-- city: string (nullable = true)\n",
      " |-- state_id: string (nullable = true)\n",
      " |-- number_of_business: integer (nullable = true)\n",
      " |-- adjusted_gross_income: integer (nullable = true)\n",
      " |-- total_income_amount: double (nullable = true)\n",
      " |-- AGI per Business: double (nullable = true)\n",
      "\n"
     ]
    }
   ],
   "source": [
    "df_AGI_v_Business.printSchema()"
   ]
  },
  {
   "cell_type": "code",
   "execution_count": 26,
   "id": "1c132c09-4a60-4bd8-ad16-99f0e4f2cdd6",
   "metadata": {},
   "outputs": [
    {
     "name": "stdout",
     "output_type": "stream",
     "text": [
      "+-------+------------------+------------------+---------------------+-------------------+------------------+\n",
      "|summary|               zip|number_of_business|adjusted_gross_income|total_income_amount|  AGI per Business|\n",
      "+-------+------------------+------------------+---------------------+-------------------+------------------+\n",
      "|  count|             33624|             33624|                33624|              33624|             33624|\n",
      "|   mean|49841.581251487034| 260.6949202950274|     426128.850672139|  430900.3270977903|2020.7699515399624|\n",
      "| stddev|27464.851381954184|432.11281369671184|    756775.5571880672|  765071.8628725683|1680.3575191855648|\n",
      "|    min|              1001|                 1|                  577|              577.0|12.113924050632912|\n",
      "|    25%|             27046|                19|                32769|            33180.0| 1086.376811594203|\n",
      "|    50%|             49781|                74|               113622|           115128.0|1639.2309941520468|\n",
      "|    75%|             72223|               333|               505229|           510234.0|2450.0542495479203|\n",
      "|    max|             99929|              7263|             15224673|        1.5277982E7|           84963.5|\n",
      "+-------+------------------+------------------+---------------------+-------------------+------------------+\n",
      "\n"
     ]
    }
   ],
   "source": [
    "numeric_cols = [c for c, t in df_AGI_v_Business.dtypes if t.startswith('string')==False]\n",
    "df_AGI_v_Business.select(*numeric_cols).summary().show()"
   ]
  },
  {
   "cell_type": "markdown",
   "id": "9d3fea7e-dd22-42c6-b532-4b844b0b439e",
   "metadata": {},
   "source": [
    "In order to plot needed to convert to pandas."
   ]
  },
  {
   "cell_type": "code",
   "execution_count": 27,
   "id": "b6cf153a-c62a-4997-8916-8a16758ac4c8",
   "metadata": {},
   "outputs": [],
   "source": [
    "pandas_df = df_AGI_v_Business.toPandas()"
   ]
  },
  {
   "cell_type": "code",
   "execution_count": 28,
   "id": "f5028ecc-e2bf-4239-8be8-ff5752b3439e",
   "metadata": {},
   "outputs": [
    {
     "data": {
      "text/plain": [
       "count    33624.000000\n",
       "mean      2020.769952\n",
       "std       1680.357519\n",
       "min         12.113924\n",
       "25%       1086.376812\n",
       "50%       1639.273140\n",
       "75%       2450.263251\n",
       "max      84963.500000\n",
       "Name: AGI per Business, dtype: float64"
      ]
     },
     "execution_count": 28,
     "metadata": {},
     "output_type": "execute_result"
    }
   ],
   "source": [
    "pandas_df['AGI per Business'].describe()"
   ]
  },
  {
   "cell_type": "code",
   "execution_count": 29,
   "id": "d4aecd89-f8d3-4582-8aac-dec5ade85e10",
   "metadata": {},
   "outputs": [
    {
     "data": {
      "image/png": "[encoded data removed]",
      "text/plain": [
       "<Figure size 1000x600 with 1 Axes>"
      ]
     },
     "metadata": {},
     "output_type": "display_data"
    }
   ],
   "source": [
    "plt.figure(figsize=(10, 6))\n",
    "plt.scatter(pandas_df['number_of_business'], pandas_df['AGI per Business'])\n",
    "plt.xlabel(\"Number of Businesses (per Zip Code)\")\n",
    "plt.ylabel(\"AGI per Business (per Zip Code)\")\n",
    "plt.title(\"Effect of Number of Businesses on AGI per Business (by Zip Code)\")\n",
    "plt.grid(True)\n",
    "plt.show()"
   ]
  },
  {
   "cell_type": "markdown",
   "id": "b880d573-3424-4520-8870-a8f8a94e92b5",
   "metadata": {},
   "source": [
    "Decided to generate a plot graph that could be hovered over to investigate results."
   ]
  },
  {
   "cell_type": "code",
   "execution_count": 33,
   "id": "3f408027-33ee-4680-8adc-566e0b97d5f7",
   "metadata": {},
   "outputs": [],
   "source": [
    "import plotly.express as px"
   ]
  },
  {
   "cell_type": "code",
   "execution_count": 34,
   "id": "09fa5132-3511-42bf-8552-a6849538971b",
   "metadata": {},
   "outputs": [
    {
     "ename": "ValueError",
     "evalue": "Mime type rendering requires nbformat>=4.2.0 but it is not installed",
     "output_type": "error",
     "traceback": [
      "\u001b[31m---------------------------------------------------------------------------\u001b[39m",
      "\u001b[31mValueError\u001b[39m                                Traceback (most recent call last)",
      "\u001b[36mCell\u001b[39m\u001b[36m \u001b[39m\u001b[32mIn[34]\u001b[39m\u001b[32m, line 8\u001b[39m\n\u001b[32m      1\u001b[39m fig = px.scatter(pandas_df,\n\u001b[32m      2\u001b[39m                  x=\u001b[33m'\u001b[39m\u001b[33mnumber_of_business\u001b[39m\u001b[33m'\u001b[39m,\n\u001b[32m      3\u001b[39m                  y=\u001b[33m'\u001b[39m\u001b[33mAGI per Business\u001b[39m\u001b[33m'\u001b[39m,\n\u001b[32m   (...)\u001b[39m\u001b[32m      6\u001b[39m                          \u001b[33m'\u001b[39m\u001b[33mAGI per Business\u001b[39m\u001b[33m'\u001b[39m: \u001b[33m'\u001b[39m\u001b[33mAGI per Business (per Zip Code)\u001b[39m\u001b[33m'\u001b[39m},\n\u001b[32m      7\u001b[39m                  title=\u001b[33m'\u001b[39m\u001b[33mEffect of Number of Businesses on AGI per Business (by Zip Code)\u001b[39m\u001b[33m'\u001b[39m)\n\u001b[32m----> \u001b[39m\u001b[32m8\u001b[39m \u001b[43mfig\u001b[49m\u001b[43m.\u001b[49m\u001b[43mshow\u001b[49m\u001b[43m(\u001b[49m\u001b[43m)\u001b[49m\n",
      "\u001b[36mFile \u001b[39m\u001b[32m/opt/homebrew/lib/python3.11/site-packages/plotly/basedatatypes.py:3414\u001b[39m, in \u001b[36mBaseFigure.show\u001b[39m\u001b[34m(self, *args, **kwargs)\u001b[39m\n\u001b[32m   3381\u001b[39m \u001b[38;5;250m\u001b[39m\u001b[33;03m\"\"\"\u001b[39;00m\n\u001b[32m   3382\u001b[39m \u001b[33;03mShow a figure using either the default renderer(s) or the renderer(s)\u001b[39;00m\n\u001b[32m   3383\u001b[39m \u001b[33;03mspecified by the renderer argument\u001b[39;00m\n\u001b[32m   (...)\u001b[39m\u001b[32m   3410\u001b[39m \u001b[33;03mNone\u001b[39;00m\n\u001b[32m   3411\u001b[39m \u001b[33;03m\"\"\"\u001b[39;00m\n\u001b[32m   3412\u001b[39m \u001b[38;5;28;01mimport\u001b[39;00m\u001b[38;5;250m \u001b[39m\u001b[34;01mplotly\u001b[39;00m\u001b[34;01m.\u001b[39;00m\u001b[34;01mio\u001b[39;00m\u001b[38;5;250m \u001b[39m\u001b[38;5;28;01mas\u001b[39;00m\u001b[38;5;250m \u001b[39m\u001b[34;01mpio\u001b[39;00m\n\u001b[32m-> \u001b[39m\u001b[32m3414\u001b[39m \u001b[38;5;28;01mreturn\u001b[39;00m \u001b[43mpio\u001b[49m\u001b[43m.\u001b[49m\u001b[43mshow\u001b[49m\u001b[43m(\u001b[49m\u001b[38;5;28;43mself\u001b[39;49m\u001b[43m,\u001b[49m\u001b[43m \u001b[49m\u001b[43m*\u001b[49m\u001b[43margs\u001b[49m\u001b[43m,\u001b[49m\u001b[43m \u001b[49m\u001b[43m*\u001b[49m\u001b[43m*\u001b[49m\u001b[43mkwargs\u001b[49m\u001b[43m)\u001b[49m\n",
      "\u001b[36mFile \u001b[39m\u001b[32m/opt/homebrew/lib/python3.11/site-packages/plotly/io/_renderers.py:425\u001b[39m, in \u001b[36mshow\u001b[39m\u001b[34m(fig, renderer, validate, **kwargs)\u001b[39m\n\u001b[32m    420\u001b[39m     \u001b[38;5;28;01mraise\u001b[39;00m \u001b[38;5;167;01mValueError\u001b[39;00m(\n\u001b[32m    421\u001b[39m         \u001b[33m\"\u001b[39m\u001b[33mMime type rendering requires ipython but it is not installed\u001b[39m\u001b[33m\"\u001b[39m\n\u001b[32m    422\u001b[39m     )\n\u001b[32m    424\u001b[39m \u001b[38;5;28;01mif\u001b[39;00m \u001b[38;5;129;01mnot\u001b[39;00m nbformat \u001b[38;5;129;01mor\u001b[39;00m Version(nbformat.__version__) < Version(\u001b[33m\"\u001b[39m\u001b[33m4.2.0\u001b[39m\u001b[33m\"\u001b[39m):\n\u001b[32m--> \u001b[39m\u001b[32m425\u001b[39m     \u001b[38;5;28;01mraise\u001b[39;00m \u001b[38;5;167;01mValueError\u001b[39;00m(\n\u001b[32m    426\u001b[39m         \u001b[33m\"\u001b[39m\u001b[33mMime type rendering requires nbformat>=4.2.0 but it is not installed\u001b[39m\u001b[33m\"\u001b[39m\n\u001b[32m    427\u001b[39m     )\n\u001b[32m    429\u001b[39m display_jupyter_version_warnings()\n\u001b[32m    431\u001b[39m ipython_display.display(bundle, raw=\u001b[38;5;28;01mTrue\u001b[39;00m)\n",
      "\u001b[31mValueError\u001b[39m: Mime type rendering requires nbformat>=4.2.0 but it is not installed"
     ]
    }
   ],
   "source": [
    "fig = px.scatter(pandas_df,\n",
    "                 x='number_of_business',\n",
    "                 y='AGI per Business',\n",
    "                 hover_data=['number_of_business', 'AGI per Business', 'zip'], # Add other columns to display on hover\n",
    "                 labels={'number_of_business': 'Number of Businesses (per Zip Code)',\n",
    "                         'AGI per Business': 'AGI per Business (per Zip Code)'},\n",
    "                 title='Effect of Number of Businesses on AGI per Business (by Zip Code)')\n",
    "fig.show()"
   ]
  },
  {
   "cell_type": "markdown",
   "id": "19f07a63-7f4b-4777-a8ea-af650906b4b6",
   "metadata": {},
   "source": [
    "The values shown for number of businesses when looking into outlying instances zip code 80297 (Colorado Springs, Colorado) having 4 businesses and 10199 (New York, New York) having 7263 businesses led me to want to delve deeper into those locations as the data seemed off. I decided to review the sources used in the creation of this dataset at https://github.com/erkara/auc-data-challenge-23/blob/main/data_sources.xlsx. There it indicated the values are pulled from realdatasets.com for the year of 2012. US Census Bureau states 12 establishments for 10199 in 2012 (https://data.census.gov/profile?q=2012+zip+code+business&g=010XX00US$8600000_860XX00US10199&y=2012). While 80297 does not appear in the 2012 census data.      "
   ]
  },
  {
   "cell_type": "markdown",
   "id": "3193fac1-e260-4d21-b6a8-be904e20765e",
   "metadata": {},
   "source": [
    "## AGI by total income by zip "
   ]
  },
  {
   "cell_type": "code",
   "execution_count": 35,
   "id": "9c55771b-01ef-4708-b014-239df46c1f37",
   "metadata": {},
   "outputs": [
    {
     "name": "stdout",
     "output_type": "stream",
     "text": [
      "+-------+-----------------+------------------+---------------------+-------------------+\n",
      "|summary|              zip|number_of_business|adjusted_gross_income|total_income_amount|\n",
      "+-------+-----------------+------------------+---------------------+-------------------+\n",
      "|  count|            33704|             33624|                33704|              33704|\n",
      "|   mean|49842.60782103014| 260.6949202950274|   425134.10239140753| 429894.33857557003|\n",
      "| stddev|27451.11144214845|432.11281369671184|    756151.9395034771|  764441.5938419583|\n",
      "|    min|             1001|                 1|                  577|              577.0|\n",
      "|    25%|            27051|                19|                32471|         32873.0001|\n",
      "|    50%|            49776|                74|               112840|           114006.0|\n",
      "|    75%|            72206|               333|               505154|           509227.0|\n",
      "|    max|            99929|              7263|             15224673|        1.5277982E7|\n",
      "+-------+-----------------+------------------+---------------------+-------------------+\n",
      "\n"
     ]
    }
   ],
   "source": [
    "numeric_cols = [c for c, t in df_limited.dtypes if t.startswith('string')==False]\n",
    "df_limited.select(*numeric_cols).summary().show()"
   ]
  },
  {
   "cell_type": "markdown",
   "id": "eb045bc7-e576-492a-8f08-c1f5787efe07",
   "metadata": {},
   "source": [
    "Create a new dataset where the AGI is below the mean and the total income is above the mean."
   ]
  },
  {
   "cell_type": "code",
   "execution_count": 36,
   "id": "ebce341d-a517-4028-afa5-d383ae932b06",
   "metadata": {},
   "outputs": [],
   "source": [
    "filtered_df = df_limited.filter(col(\"adjusted_gross_income\") < 425134.10239140753)\n",
    "filtered_df = filtered_df.filter(col(\"total_income_amount\") > 429894.33857557003)"
   ]
  },
  {
   "cell_type": "code",
   "execution_count": 37,
   "id": "e8d02763-3026-42f0-8f45-6f5a1a172f69",
   "metadata": {},
   "outputs": [
    {
     "name": "stdout",
     "output_type": "stream",
     "text": [
      "+-------+-----------------+------------------+---------------------+-------------------+\n",
      "|summary|              zip|number_of_business|adjusted_gross_income|total_income_amount|\n",
      "+-------+-----------------+------------------+---------------------+-------------------+\n",
      "|  count|               11|                11|                   11|                 11|\n",
      "|   mean|61758.72727272727|505.27272727272725|   424454.36363636365|  431883.8181818182|\n",
      "| stddev|35880.84149261528|  295.339157887704|   355.43699096387456| 1227.7339140206066|\n",
      "|    min|             4046|               192|               423630|           430086.0|\n",
      "|    25%|            19031|               328|               424278|           430561.0|\n",
      "|    50%|            79360|               499|               424488|           431912.0|\n",
      "|    75%|            90013|               521|               424805|           432930.0|\n",
      "|    max|            99663|              1317|               424876|           433893.0|\n",
      "+-------+-----------------+------------------+---------------------+-------------------+\n",
      "\n"
     ]
    }
   ],
   "source": [
    "numeric_cols = [c for c, t in filtered_df.dtypes if t.startswith('string')==False]\n",
    "filtered_df.select(*numeric_cols).summary().show()"
   ]
  },
  {
   "cell_type": "code",
   "execution_count": 38,
   "id": "f02efda9-7b8e-4e59-8364-5edb321ef281",
   "metadata": {},
   "outputs": [
    {
     "name": "stdout",
     "output_type": "stream",
     "text": [
      "+-----+--------------+--------+------------------+---------------------+-------------------+\n",
      "|  zip|          city|state_id|number_of_business|adjusted_gross_income|total_income_amount|\n",
      "+-----+--------------+--------+------------------+---------------------+-------------------+\n",
      "| 4046| Kennebunkport|      ME|               328|               424805|           433893.0|\n",
      "| 7727|   Farmingdale|      NJ|               401|               423630|           430561.0|\n",
      "|19031|     Flourtown|      PA|               192|               424876|           431616.0|\n",
      "|53959|     Reedsburg|      WI|               328|               424844|           430086.0|\n",
      "|63501|    Kirksville|      MO|               616|               424355|           431049.0|\n",
      "|79360|      Seminole|      TX|               336|               424311|           431912.0|\n",
      "|81201|        Salida|      CO|               499|               424488|           432930.0|\n",
      "|90013|   Los Angeles|      CA|              1317|               424645|           430479.0|\n",
      "|99603|         Homer|      AK|               521|               424278|           432633.0|\n",
      "|81242|Poncha Springs|      CO|               499|               424488|           432930.0|\n",
      "|99663|      Seldovia|      AK|               521|               424278|           432633.0|\n",
      "+-----+--------------+--------+------------------+---------------------+-------------------+\n",
      "\n"
     ]
    }
   ],
   "source": [
    "filtered_df.show()"
   ]
  },
  {
   "cell_type": "markdown",
   "id": "362b181f-bcc1-4606-8837-02055a38cbe2",
   "metadata": {},
   "source": [
    "The above table shows the results but variation between the zipcodes is minimal when the application of removing above mean AGI and below mean total income leading to no value to visual plot. "
   ]
  },
  {
   "cell_type": "markdown",
   "id": "334e13f6-b516-4bbf-838b-2c61e2d2e4b1",
   "metadata": {},
   "source": [
    "## AGI by Population"
   ]
  },
  {
   "cell_type": "code",
   "execution_count": 39,
   "id": "d8e202e6-6dbf-4cde-838d-2ec3135edcf5",
   "metadata": {},
   "outputs": [],
   "source": [
    "df_limited_AGI_Pop= df[['zip', 'city', 'state_id', 'population', 'adjusted_gross_income']]"
   ]
  },
  {
   "cell_type": "code",
   "execution_count": 40,
   "id": "34c6d1a3-1507-4ebf-b09d-91c07ef1fd37",
   "metadata": {},
   "outputs": [
    {
     "name": "stdout",
     "output_type": "stream",
     "text": [
      "+-------+-----------------+------------------+---------------------+\n",
      "|summary|              zip|        population|adjusted_gross_income|\n",
      "+-------+-----------------+------------------+---------------------+\n",
      "|  count|            33704|             33704|                33704|\n",
      "|   mean|49842.60782103014|11287.959737716592|   425134.10239140753|\n",
      "| stddev|27451.11144214845|15200.216997387142|    756151.9395034771|\n",
      "|    min|             1001|                 0|                  577|\n",
      "|    25%|            27051|              1253|                32471|\n",
      "|    50%|            49776|              4099|               112840|\n",
      "|    75%|            72206|             16104|               505154|\n",
      "|    max|            99929|            130352|             15224673|\n",
      "+-------+-----------------+------------------+---------------------+\n",
      "\n"
     ]
    }
   ],
   "source": [
    "numeric_cols = [c for c, t in df_limited_AGI_Pop.dtypes if t.startswith('string')==False]\n",
    "df_limited_AGI_Pop.select(*numeric_cols).summary().show()"
   ]
  },
  {
   "cell_type": "code",
   "execution_count": 41,
   "id": "c2c2463c-b1c7-4c99-8ad4-7149452ce6b6",
   "metadata": {},
   "outputs": [],
   "source": [
    "df_limited_AGI_Pop_sorted = df_limited_AGI_Pop.sort('population')"
   ]
  },
  {
   "cell_type": "code",
   "execution_count": 42,
   "id": "dccc091c-fbdd-4a33-bce6-8096a8aeb161",
   "metadata": {},
   "outputs": [],
   "source": [
    "pandas_AGI_Pop_df = df_limited_AGI_Pop_sorted.toPandas()"
   ]
  },
  {
   "cell_type": "code",
   "execution_count": 43,
   "id": "771d5dde-c234-419a-9a59-0253a6c94b84",
   "metadata": {},
   "outputs": [
    {
     "ename": "ValueError",
     "evalue": "Mime type rendering requires nbformat>=4.2.0 but it is not installed",
     "output_type": "error",
     "traceback": [
      "\u001b[31m---------------------------------------------------------------------------\u001b[39m",
      "\u001b[31mValueError\u001b[39m                                Traceback (most recent call last)",
      "\u001b[36mCell\u001b[39m\u001b[36m \u001b[39m\u001b[32mIn[43]\u001b[39m\u001b[32m, line 8\u001b[39m\n\u001b[32m      1\u001b[39m fig = px.scatter(pandas_AGI_Pop_df,\n\u001b[32m      2\u001b[39m                  x=\u001b[33m'\u001b[39m\u001b[33mpopulation\u001b[39m\u001b[33m'\u001b[39m,\n\u001b[32m      3\u001b[39m                  y=\u001b[33m'\u001b[39m\u001b[33madjusted_gross_income\u001b[39m\u001b[33m'\u001b[39m,\n\u001b[32m   (...)\u001b[39m\u001b[32m      6\u001b[39m                          \u001b[33m'\u001b[39m\u001b[33madjusted_gross_income\u001b[39m\u001b[33m'\u001b[39m: \u001b[33m'\u001b[39m\u001b[33mAGI per (per Zip Code)\u001b[39m\u001b[33m'\u001b[39m},\n\u001b[32m      7\u001b[39m                  title=\u001b[33m'\u001b[39m\u001b[33mEffect of Population on Adjusted Gross Income (by Zip Code)\u001b[39m\u001b[33m'\u001b[39m)\n\u001b[32m----> \u001b[39m\u001b[32m8\u001b[39m \u001b[43mfig\u001b[49m\u001b[43m.\u001b[49m\u001b[43mshow\u001b[49m\u001b[43m(\u001b[49m\u001b[43m)\u001b[49m\n",
      "\u001b[36mFile \u001b[39m\u001b[32m/opt/homebrew/lib/python3.11/site-packages/plotly/basedatatypes.py:3414\u001b[39m, in \u001b[36mBaseFigure.show\u001b[39m\u001b[34m(self, *args, **kwargs)\u001b[39m\n\u001b[32m   3381\u001b[39m \u001b[38;5;250m\u001b[39m\u001b[33;03m\"\"\"\u001b[39;00m\n\u001b[32m   3382\u001b[39m \u001b[33;03mShow a figure using either the default renderer(s) or the renderer(s)\u001b[39;00m\n\u001b[32m   3383\u001b[39m \u001b[33;03mspecified by the renderer argument\u001b[39;00m\n\u001b[32m   (...)\u001b[39m\u001b[32m   3410\u001b[39m \u001b[33;03mNone\u001b[39;00m\n\u001b[32m   3411\u001b[39m \u001b[33;03m\"\"\"\u001b[39;00m\n\u001b[32m   3412\u001b[39m \u001b[38;5;28;01mimport\u001b[39;00m\u001b[38;5;250m \u001b[39m\u001b[34;01mplotly\u001b[39;00m\u001b[34;01m.\u001b[39;00m\u001b[34;01mio\u001b[39;00m\u001b[38;5;250m \u001b[39m\u001b[38;5;28;01mas\u001b[39;00m\u001b[38;5;250m \u001b[39m\u001b[34;01mpio\u001b[39;00m\n\u001b[32m-> \u001b[39m\u001b[32m3414\u001b[39m \u001b[38;5;28;01mreturn\u001b[39;00m \u001b[43mpio\u001b[49m\u001b[43m.\u001b[49m\u001b[43mshow\u001b[49m\u001b[43m(\u001b[49m\u001b[38;5;28;43mself\u001b[39;49m\u001b[43m,\u001b[49m\u001b[43m \u001b[49m\u001b[43m*\u001b[49m\u001b[43margs\u001b[49m\u001b[43m,\u001b[49m\u001b[43m \u001b[49m\u001b[43m*\u001b[49m\u001b[43m*\u001b[49m\u001b[43mkwargs\u001b[49m\u001b[43m)\u001b[49m\n",
      "\u001b[36mFile \u001b[39m\u001b[32m/opt/homebrew/lib/python3.11/site-packages/plotly/io/_renderers.py:425\u001b[39m, in \u001b[36mshow\u001b[39m\u001b[34m(fig, renderer, validate, **kwargs)\u001b[39m\n\u001b[32m    420\u001b[39m     \u001b[38;5;28;01mraise\u001b[39;00m \u001b[38;5;167;01mValueError\u001b[39;00m(\n\u001b[32m    421\u001b[39m         \u001b[33m\"\u001b[39m\u001b[33mMime type rendering requires ipython but it is not installed\u001b[39m\u001b[33m\"\u001b[39m\n\u001b[32m    422\u001b[39m     )\n\u001b[32m    424\u001b[39m \u001b[38;5;28;01mif\u001b[39;00m \u001b[38;5;129;01mnot\u001b[39;00m nbformat \u001b[38;5;129;01mor\u001b[39;00m Version(nbformat.__version__) < Version(\u001b[33m\"\u001b[39m\u001b[33m4.2.0\u001b[39m\u001b[33m\"\u001b[39m):\n\u001b[32m--> \u001b[39m\u001b[32m425\u001b[39m     \u001b[38;5;28;01mraise\u001b[39;00m \u001b[38;5;167;01mValueError\u001b[39;00m(\n\u001b[32m    426\u001b[39m         \u001b[33m\"\u001b[39m\u001b[33mMime type rendering requires nbformat>=4.2.0 but it is not installed\u001b[39m\u001b[33m\"\u001b[39m\n\u001b[32m    427\u001b[39m     )\n\u001b[32m    429\u001b[39m display_jupyter_version_warnings()\n\u001b[32m    431\u001b[39m ipython_display.display(bundle, raw=\u001b[38;5;28;01mTrue\u001b[39;00m)\n",
      "\u001b[31mValueError\u001b[39m: Mime type rendering requires nbformat>=4.2.0 but it is not installed"
     ]
    }
   ],
   "source": [
    "fig = px.scatter(pandas_AGI_Pop_df,\n",
    "                 x='population',\n",
    "                 y='adjusted_gross_income',\n",
    "                 hover_data=['population', 'adjusted_gross_income', 'zip'], # Add other columns to display on hover\n",
    "                 labels={'population': 'Population (per Zip Code)',\n",
    "                         'adjusted_gross_income': 'AGI per (per Zip Code)'},\n",
    "                 title='Effect of Population on Adjusted Gross Income (by Zip Code)')\n",
    "fig.show()"
   ]
  },
  {
   "cell_type": "markdown",
   "id": "ca7bf670-9f20-4a27-a480-a7eb2e9d2c0b",
   "metadata": {},
   "source": [
    "The scatter plot above shows that the AGI for a zip code does increase with population yet not a 1 to 1 result. There are too many outliers that show a much greater AGI indepentant of population."
   ]
  },
  {
   "cell_type": "markdown",
   "id": "7bcee068",
   "metadata": {},
   "source": [
    "## AGI by shore"
   ]
  },
  {
   "cell_type": "code",
   "execution_count": null,
   "id": "7ab710d8",
   "metadata": {},
   "outputs": [],
   "source": []
  },
  {
   "cell_type": "code",
   "execution_count": null,
   "id": "5e7c9df7",
   "metadata": {},
   "outputs": [],
   "source": []
  },
  {
   "cell_type": "code",
   "execution_count": null,
   "id": "72fbcc2a",
   "metadata": {},
   "outputs": [],
   "source": []
  },
  {
   "cell_type": "markdown",
   "id": "3f36e5af",
   "metadata": {},
   "source": [
    "## airport shore nuber of business zipcode"
   ]
  },
  {
   "cell_type": "code",
   "execution_count": null,
   "id": "e27779ac",
   "metadata": {},
   "outputs": [],
   "source": []
  },
  {
   "cell_type": "code",
   "execution_count": null,
   "id": "7478c281",
   "metadata": {},
   "outputs": [],
   "source": []
  },
  {
   "cell_type": "markdown",
   "id": "3eedb142",
   "metadata": {},
   "source": []
  },
  {
   "cell_type": "markdown",
   "id": "1132d252",
   "metadata": {},
   "source": [
    "## number of returns by county"
   ]
  },
  {
   "cell_type": "code",
   "execution_count": null,
   "id": "166c4baf",
   "metadata": {},
   "outputs": [],
   "source": []
  },
  {
   "cell_type": "code",
   "execution_count": null,
   "id": "5a418de3",
   "metadata": {},
   "outputs": [],
   "source": []
  },
  {
   "cell_type": "code",
   "execution_count": null,
   "id": "019877f3",
   "metadata": {},
   "outputs": [],
   "source": []
  },
  {
   "cell_type": "markdown",
   "id": "44de0fbf",
   "metadata": {},
   "source": [
    "## Distance highway/airport Pop by zipcode"
   ]
  },
  {
   "cell_type": "code",
   "execution_count": null,
   "id": "14a7f514",
   "metadata": {},
   "outputs": [],
   "source": []
  },
  {
   "cell_type": "code",
   "execution_count": null,
   "id": "79baba08",
   "metadata": {},
   "outputs": [],
   "source": []
  },
  {
   "cell_type": "code",
   "execution_count": null,
   "id": "ae75fe9a",
   "metadata": {},
   "outputs": [],
   "source": []
  }
 ],
 "metadata": {
  "kernelspec": {
   "display_name": "Python 3",
   "language": "python",
   "name": "python3"
  },
  "language_info": {
   "codemirror_mode": {
    "name": "ipython",
    "version": 3
   },
   "file_extension": ".py",
   "mimetype": "text/x-python",
   "name": "python",
   "nbconvert_exporter": "python",
   "pygments_lexer": "ipython3",
   "version": "3.11.11"
  }
 },
 "nbformat": 4,
 "nbformat_minor": 5
}
