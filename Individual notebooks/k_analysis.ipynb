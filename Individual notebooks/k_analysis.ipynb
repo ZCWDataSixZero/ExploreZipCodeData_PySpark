{
 "cells": [
  {
   "cell_type": "code",
   "execution_count": 15,
   "id": "47f20dc9",
   "metadata": {},
   "outputs": [],
   "source": [
    "## Import required libraries\n",
    "import pandas as pd\n",
    "import matplotlib.pyplot as plt\n",
    "import seaborn as sns\n",
    "from pyspark.sql.functions import col, avg, max, min, countDistinct, sum, round\n",
    "import geopandas as gpd\n",
    "\n",
    "## Set up PySpark environment\n",
    "from pyspark.sql import SparkSession"
   ]
  },
  {
   "cell_type": "code",
   "execution_count": 2,
   "id": "6d30db69",
   "metadata": {},
   "outputs": [
    {
     "name": "stderr",
     "output_type": "stream",
     "text": [
      "25/04/18 10:23:41 WARN Utils: Your hostname, Zipcoders-MacBook-Pro-5.local resolves to a loopback address: 127.0.0.1; using 192.168.3.155 instead (on interface en0)\n",
      "25/04/18 10:23:41 WARN Utils: Set SPARK_LOCAL_IP if you need to bind to another address\n",
      "Setting default log level to \"WARN\".\n",
      "To adjust logging level use sc.setLogLevel(newLevel). For SparkR, use setLogLevel(newLevel).\n",
      "25/04/18 10:23:42 WARN NativeCodeLoader: Unable to load native-hadoop library for your platform... using builtin-java classes where applicable\n"
     ]
    },
    {
     "data": {
      "text/html": [
       "\n",
       "            <div>\n",
       "                <p><b>SparkSession - in-memory</b></p>\n",
       "                \n",
       "        <div>\n",
       "            <p><b>SparkContext</b></p>\n",
       "\n",
       "            <p><a href=\"http://192.168.3.155:4040\">Spark UI</a></p>\n",
       "\n",
       "            <dl>\n",
       "              <dt>Version</dt>\n",
       "                <dd><code>v3.5.5</code></dd>\n",
       "              <dt>Master</dt>\n",
       "                <dd><code>local[*]</code></dd>\n",
       "              <dt>AppName</dt>\n",
       "                <dd><code>PySpark project</code></dd>\n",
       "            </dl>\n",
       "        </div>\n",
       "        \n",
       "            </div>\n",
       "        "
      ],
      "text/plain": [
       "<pyspark.sql.session.SparkSession at 0x12c2b8a10>"
      ]
     },
     "execution_count": 2,
     "metadata": {},
     "output_type": "execute_result"
    }
   ],
   "source": [
    "## Initialize the SparkSession\n",
    "# appName is the name of the application\n",
    "# getOrCreate() creates a new session or retrieves an existing one\n",
    "spark = SparkSession.builder \\\n",
    "    .appName(\"PySpark project\") \\\n",
    "        .getOrCreate()\n",
    "\n",
    "## Verify that SparkSession is created\n",
    "spark"
   ]
  },
  {
   "cell_type": "markdown",
   "id": "3e25df35",
   "metadata": {},
   "source": [
    "### Look at Population by State"
   ]
  },
  {
   "cell_type": "code",
   "execution_count": 7,
   "id": "278cf1c0",
   "metadata": {},
   "outputs": [
    {
     "name": "stdout",
     "output_type": "stream",
     "text": [
      "Data loaded successfully\n"
     ]
    }
   ],
   "source": [
    "try:\n",
    "    zip_df = spark.read.csv ('../data/zip_code_demographics.csv', header=True, inferSchema=True)\n",
    "    print('Data loaded successfully')\n",
    "except Exception as e:\n",
    "    print(f'Error loading data: {e}')"
   ]
  },
  {
   "cell_type": "code",
   "execution_count": 9,
   "id": "b2c4fa24",
   "metadata": {},
   "outputs": [
    {
     "name": "stdout",
     "output_type": "stream",
     "text": [
      "+----+--------+---------+---------------+--------+-------------+----------+-------+-----------+------+------------------+-------------------+--------------------+----------------+------------------+---------------------+-------------------+-----------------+\n",
      "| zip|     lat|      lng|           city|state_id|   state_name|population|density|county_name|po_box|      dist_highway|dist2_large_airport|dist2_medium_airport|   dist_to_shore|number_of_business|adjusted_gross_income|total_income_amount|number_of_returns|\n",
      "+----+--------+---------+---------------+--------+-------------+----------+-------+-----------+------+------------------+-------------------+--------------------+----------------+------------------+---------------------+-------------------+-----------------+\n",
      "|1001|42.06262|-72.62521|         Agawam|      MA|Massachusetts|     16088|  550.1|    Hampden|     0|  1.38703489958776|   106.145765467407|    12.9462123500772|93.0492507357679|               438|               598807|           604769.0|             9320|\n",
      "|1002|42.37633|-72.46462|        Amherst|      MA|Massachusetts|     27323|  198.1|  Hampshire|     0|  14.4381771787811|   112.264368137872|    21.0800788136799|133.370143966814|               571|               989558|          1005796.0|             9880|\n",
      "|1005|42.42117|-72.10655|          Barre|      MA|Massachusetts|      4947|   44.2|  Worcester|     0|  16.7883389378764|    90.664964214599|    25.5477180736873|97.6398810953817|                97|               164207|           166054.0|             2490|\n",
      "|1007|42.28163|-72.40009|    Belchertown|      MA|Massachusetts|     15304|  107.7|  Hampshire|     0|   13.663839468365|   101.552921217705|     14.762395370048|114.406033754504|               217|               647074|           654739.0|             7970|\n",
      "|1008|42.18234|-72.95819|      Blandford|      MA|Massachusetts|      1171|    7.4|    Hampden|     0|  2.59365546872497|    136.54879743219|    20.1779499690055|107.466779445914|                18|                47826|         48241.0001|              660|\n",
      "|1010|42.12904|-72.20597|      Brimfield|      MA|Massachusetts|      3703|   40.6|    Hampden|     0|  4.73727136188264|   78.6454995903817|    28.0492624787917|94.9280235181023|                73|               155666|           157677.0|             1980|\n",
      "|1011|42.30233|-72.96448|        Chester|      MA|Massachusetts|      1332|   15.7|    Hampden|     0|  8.05869305726245|   142.414627001912|    26.0419084149722|128.563170400209|                13|                38223|            38553.0|              630|\n",
      "|1012|42.38495|-72.84675|   Chesterfield|      MA|Massachusetts|       503|   16.1|  Hampshire|     0|  18.3310957824545|   138.381683922713|    27.4666636064825|137.693284947624|                10|                24826|            25102.0|              410|\n",
      "|1013|42.16059|-72.60788|       Chicopee|      MA|Massachusetts|     22709| 1549.1|    Hampden|     0|0.0622862708325111|   109.114246004907|    7.07589281728133|104.576258028243|               317|               516431|           520174.0|            11270|\n",
      "|1020|42.17618|-72.56538|       Chicopee|      MA|Massachusetts|     30704|  951.4|    Hampden|     0| 0.925139778004274|   106.769094716986|    3.20553313229515|105.789420653597|               550|               828125|           834614.0|            15760|\n",
      "|1022|42.19721|-72.54249|       Chicopee|      MA|Massachusetts|      2235|  179.2|    Hampden|     0|  3.91926246782393|   106.224583169209|   0.727276755734925|107.544849378402|                63|                56336|            56674.0|             1180|\n",
      "|1026|   42.46|    -72.9|     Cummington|      MA|Massachusetts|      1071|   14.7|  Hampshire|     0|  24.3805910062325|   146.550669800719|    36.8660922281397|147.638866780228|                18|                32259|            32739.0|              520|\n",
      "|1027|42.29506|-72.74303|    Easthampton|      MA|Massachusetts|     17708|  168.5|  Hampshire|     0|  9.87359871206748|   125.949999053977|    15.4289439784155| 124.36751323717|               372|               671249|           680457.0|            10070|\n",
      "|1028|42.05967|-72.49899|East Longmeadow|      MA|Massachusetts|     16386|  489.6|    Hampden|     0|   7.4060174552429|   96.3191778717821|    15.2259292870845|90.9561490159946|               503|               835044|           845428.0|             8540|\n",
      "|1030|42.06869|-72.67967|  Feeding Hills|      MA|Massachusetts|     12627|  405.3|    Hampden|     0|  1.41993513386707|   110.600332715728|    10.3421978954343|93.9142965327369|               201|               445380|           449958.0|             6170|\n",
      "|1031|42.32782|-72.19191|   Gilbertville|      MA|Massachusetts|      1577|   90.4|  Worcester|     0|  17.2230627967282|   92.1854551818214|    26.8635082123469|105.585525845634|                20|                28513|            28677.0|              570|\n",
      "|1032|42.45313|-72.81965|         Goshen|      MA|Massachusetts|       430|   17.2|  Hampshire|     0|  17.3478940942923|   140.660105470833|    33.9357857667475|144.073456496879|                19|                18694|         18873.0001|              270|\n",
      "|1033|42.26082|-72.50361|         Granby|      MA|Massachusetts|      6110|   84.8|  Hampshire|     0|  9.03480531317326|   107.168422666907|    7.86129552476818|113.854927890354|               131|               264390|           268331.0|             3370|\n",
      "|1034| 42.0826|-72.95611|      Granville|      MA|Massachusetts|      1991|   11.3|    Hampden|     0|  11.3989512111861|   132.748945811302|    21.5271085784437|  95.75593334735|                28|                80085|            81270.0|             1040|\n",
      "|1035|   42.35|   -72.58|         Hadley|      MA|Massachusetts|      5293|   88.5|  Hampshire|     0|  4.05769513820471|   117.969161035837|    17.7406423148569|125.712746119424|               309|               227576|           231353.0|             2920|\n",
      "+----+--------+---------+---------------+--------+-------------+----------+-------+-----------+------+------------------+-------------------+--------------------+----------------+------------------+---------------------+-------------------+-----------------+\n",
      "only showing top 20 rows\n",
      "\n"
     ]
    }
   ],
   "source": [
    "zip_df.show()"
   ]
  },
  {
   "cell_type": "code",
   "execution_count": 10,
   "id": "5a8120ea",
   "metadata": {},
   "outputs": [
    {
     "name": "stdout",
     "output_type": "stream",
     "text": [
      "root\n",
      " |-- zip: integer (nullable = true)\n",
      " |-- lat: double (nullable = true)\n",
      " |-- lng: double (nullable = true)\n",
      " |-- city: string (nullable = true)\n",
      " |-- state_id: string (nullable = true)\n",
      " |-- state_name: string (nullable = true)\n",
      " |-- population: integer (nullable = true)\n",
      " |-- density: double (nullable = true)\n",
      " |-- county_name: string (nullable = true)\n",
      " |-- po_box: integer (nullable = true)\n",
      " |-- dist_highway: double (nullable = true)\n",
      " |-- dist2_large_airport: double (nullable = true)\n",
      " |-- dist2_medium_airport: double (nullable = true)\n",
      " |-- dist_to_shore: double (nullable = true)\n",
      " |-- number_of_business: integer (nullable = true)\n",
      " |-- adjusted_gross_income: integer (nullable = true)\n",
      " |-- total_income_amount: double (nullable = true)\n",
      " |-- number_of_returns: integer (nullable = true)\n",
      "\n"
     ]
    }
   ],
   "source": [
    "zip_df.printSchema()"
   ]
  },
  {
   "cell_type": "code",
   "execution_count": 20,
   "id": "1249bb0f",
   "metadata": {},
   "outputs": [
    {
     "name": "stdout",
     "output_type": "stream",
     "text": [
      "+--------+--------------------+----------------+\n",
      "|state_id|          state_name|total_population|\n",
      "+--------+--------------------+----------------+\n",
      "|      MT|             Montana|         1511394|\n",
      "|      NC|      North Carolina|        12419438|\n",
      "|      MD|            Maryland|         7224056|\n",
      "|      CO|            Colorado|         6617159|\n",
      "|      CT|         Connecticut|         3819343|\n",
      "|      IL|            Illinois|        13819331|\n",
      "|      WY|             Wyoming|         1182453|\n",
      "|      NJ|          New Jersey|         9823423|\n",
      "|      DE|            Delaware|         1372445|\n",
      "|      DC|District of Columbia|         1207283|\n",
      "|      TN|           Tennessee|         7388286|\n",
      "|      LA|           Louisiana|         5596850|\n",
      "|      AR|            Arkansas|         3672387|\n",
      "|      CA|          California|        44183935|\n",
      "|      NM|          New Mexico|         3150812|\n",
      "|      UT|                Utah|         3783545|\n",
      "|      MI|            Michigan|        10768003|\n",
      "|      NY|            New York|        23903874|\n",
      "|      NH|       New Hampshire|         1432253|\n",
      "|      IA|                Iowa|         3799003|\n",
      "+--------+--------------------+----------------+\n",
      "only showing top 20 rows\n",
      "\n"
     ]
    }
   ],
   "source": [
    "zip_pop_df = zip_df.select('state_id','state_name','population').groupBy('state_id','state_name').agg(sum('population').alias(\"total_population\"))\n",
    "zip_pop_df.show()"
   ]
  },
  {
   "cell_type": "code",
   "execution_count": 16,
   "id": "2fed1b58",
   "metadata": {},
   "outputs": [],
   "source": [
    "zip_pop_pd = zip_pop_df.toPandas()"
   ]
  },
  {
   "cell_type": "code",
   "execution_count": null,
   "id": "c715cdf4",
   "metadata": {},
   "outputs": [],
   "source": []
  }
 ],
 "metadata": {
  "kernelspec": {
   "display_name": "Python 3",
   "language": "python",
   "name": "python3"
  },
  "language_info": {
   "codemirror_mode": {
    "name": "ipython",
    "version": 3
   },
   "file_extension": ".py",
   "mimetype": "text/x-python",
   "name": "python",
   "nbconvert_exporter": "python",
   "pygments_lexer": "ipython3",
   "version": "3.11.11"
  }
 },
 "nbformat": 4,
 "nbformat_minor": 5
}
