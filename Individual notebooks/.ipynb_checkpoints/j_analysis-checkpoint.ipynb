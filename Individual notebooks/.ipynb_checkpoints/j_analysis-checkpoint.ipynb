{
 "cells": [
  {
   "cell_type": "code",
   "execution_count": 16,
   "id": "3bda33c3",
   "metadata": {},
   "outputs": [],
   "source": [
    "import kagglehub # might need to pip install kagglehub\n",
    "import shutil\n",
    "import os\n",
    "import pandas as pd\n",
    "import matplotlib.pyplot as plt\n",
    "import seaborn as sns\n",
    "from pyspark.sql.functions import col, avg, max, min, countDistinct, sum, round"
   ]
  },
  {
   "cell_type": "markdown",
   "id": "529b0e02",
   "metadata": {},
   "source": [
    "# don't run this part still working on it"
   ]
  },
  {
   "cell_type": "code",
   "execution_count": null,
   "id": "76c4cfa3",
   "metadata": {},
   "outputs": [],
   "source": [
    "# # Don't \n",
    "\n",
    "# # Download the dataset to the current directory\n",
    "# try:\n",
    "#     # Replace with the correct dataset identifier\n",
    "#     path = kagglehub.dataset_download(\"erdi28/zip-codes-demographics\")\n",
    "#     print(f\"Dataset downloaded to: {path}\")\n",
    "\n",
    "#     # Save the dataset as a CSV file in the current directory\n",
    "#     for file_name in os.listdir(path):\n",
    "#         if file_name.endswith(\".csv\"):\n",
    "#             shutil.move(os.path.join(path, file_name), os.getcwd())\n",
    "#             print(f\"CSV file saved to: {os.path.join(os.getcwd(), file_name)}\")\n",
    "# except AttributeError as e:\n",
    "#     print(\"Error: The kagglehub module does not support the method used.\")\n",
    "#     print(\"Please check the documentation or update the library.\")\n",
    "# except Exception as e:\n",
    "#     print(f\"An error occurred: {e}\")"
   ]
  },
  {
   "cell_type": "code",
   "execution_count": 17,
   "id": "b10b5d0b",
   "metadata": {},
   "outputs": [],
   "source": [
    "## Set up PySpark environment\n",
    "from pyspark.sql import SparkSession"
   ]
  },
  {
   "cell_type": "code",
   "execution_count": 18,
   "id": "41756b34",
   "metadata": {},
   "outputs": [
    {
     "data": {
      "text/html": [
       "\n",
       "            <div>\n",
       "                <p><b>SparkSession - in-memory</b></p>\n",
       "                \n",
       "        <div>\n",
       "            <p><b>SparkContext</b></p>\n",
       "\n",
       "            <p><a href=\"http://192.168.3.193:4040\">Spark UI</a></p>\n",
       "\n",
       "            <dl>\n",
       "              <dt>Version</dt>\n",
       "                <dd><code>v3.5.5</code></dd>\n",
       "              <dt>Master</dt>\n",
       "                <dd><code>local[*]</code></dd>\n",
       "              <dt>AppName</dt>\n",
       "                <dd><code>ZipCode PySpark Learning</code></dd>\n",
       "            </dl>\n",
       "        </div>\n",
       "        \n",
       "            </div>\n",
       "        "
      ],
      "text/plain": [
       "<pyspark.sql.session.SparkSession at 0x10d65a150>"
      ]
     },
     "execution_count": 18,
     "metadata": {},
     "output_type": "execute_result"
    }
   ],
   "source": [
    "## Initialize the SparkSession\n",
    "# appName is the name of the application\n",
    "# getOrCreate() creates a new session or retrieves an existing one\n",
    "spark = SparkSession.builder \\\n",
    "    .appName(\"ZipCode PySpark Learning\") \\\n",
    "        .getOrCreate()\n",
    "\n",
    "## Verify that SparkSession is created\n",
    "spark"
   ]
  },
  {
   "cell_type": "markdown",
   "id": "9e998cae",
   "metadata": {},
   "source": [
    "## Pop by State -> in state pop by zip"
   ]
  },
  {
   "cell_type": "code",
   "execution_count": null,
   "id": "ce4fbc6b",
   "metadata": {},
   "outputs": [],
   "source": []
  },
  {
   "cell_type": "code",
   "execution_count": null,
   "id": "06d6a03a",
   "metadata": {},
   "outputs": [],
   "source": []
  },
  {
   "cell_type": "code",
   "execution_count": null,
   "id": "09b92168",
   "metadata": {},
   "outputs": [],
   "source": []
  },
  {
   "cell_type": "markdown",
   "id": "c2e8ede4",
   "metadata": {},
   "source": [
    "## AGI by buisness by zip, AGI by total income by zip "
   ]
  },
  {
   "cell_type": "code",
   "execution_count": 39,
   "id": "b3cb95ce",
   "metadata": {},
   "outputs": [],
   "source": [
    "df = spark.read.csv('/Users/jim/Projects/p1/ExploreZipCodeData_PySpark/data/zip_code_demographics.csv', header=True, inferSchema=True)"
   ]
  },
  {
   "cell_type": "code",
   "execution_count": 40,
   "id": "a7c8e976",
   "metadata": {},
   "outputs": [
    {
     "data": {
      "text/plain": [
       "[Row(zip=1001, lat=42.06262, lng=-72.62521, city='Agawam', state_id='MA', state_name='Massachusetts', population=16088, density=550.1, county_name='Hampden', po_box=0, dist_highway=1.38703489958776, dist2_large_airport=106.145765467407, dist2_medium_airport=12.9462123500772, dist_to_shore=93.0492507357679, number_of_business=438, adjusted_gross_income=598807, total_income_amount=604769.0, number_of_returns=9320),\n",
       " Row(zip=1002, lat=42.37633, lng=-72.46462, city='Amherst', state_id='MA', state_name='Massachusetts', population=27323, density=198.1, county_name='Hampshire', po_box=0, dist_highway=14.4381771787811, dist2_large_airport=112.264368137872, dist2_medium_airport=21.0800788136799, dist_to_shore=133.370143966814, number_of_business=571, adjusted_gross_income=989558, total_income_amount=1005796.0, number_of_returns=9880),\n",
       " Row(zip=1005, lat=42.42117, lng=-72.10655, city='Barre', state_id='MA', state_name='Massachusetts', population=4947, density=44.2, county_name='Worcester', po_box=0, dist_highway=16.7883389378764, dist2_large_airport=90.664964214599, dist2_medium_airport=25.5477180736873, dist_to_shore=97.6398810953817, number_of_business=97, adjusted_gross_income=164207, total_income_amount=166054.0, number_of_returns=2490),\n",
       " Row(zip=1007, lat=42.28163, lng=-72.40009, city='Belchertown', state_id='MA', state_name='Massachusetts', population=15304, density=107.7, county_name='Hampshire', po_box=0, dist_highway=13.663839468365, dist2_large_airport=101.552921217705, dist2_medium_airport=14.762395370048, dist_to_shore=114.406033754504, number_of_business=217, adjusted_gross_income=647074, total_income_amount=654739.0, number_of_returns=7970),\n",
       " Row(zip=1008, lat=42.18234, lng=-72.95819, city='Blandford', state_id='MA', state_name='Massachusetts', population=1171, density=7.4, county_name='Hampden', po_box=0, dist_highway=2.59365546872497, dist2_large_airport=136.54879743219, dist2_medium_airport=20.1779499690055, dist_to_shore=107.466779445914, number_of_business=18, adjusted_gross_income=47826, total_income_amount=48241.0001, number_of_returns=660),\n",
       " Row(zip=1010, lat=42.12904, lng=-72.20597, city='Brimfield', state_id='MA', state_name='Massachusetts', population=3703, density=40.6, county_name='Hampden', po_box=0, dist_highway=4.73727136188264, dist2_large_airport=78.6454995903817, dist2_medium_airport=28.0492624787917, dist_to_shore=94.9280235181023, number_of_business=73, adjusted_gross_income=155666, total_income_amount=157677.0, number_of_returns=1980),\n",
       " Row(zip=1011, lat=42.30233, lng=-72.96448, city='Chester', state_id='MA', state_name='Massachusetts', population=1332, density=15.7, county_name='Hampden', po_box=0, dist_highway=8.05869305726245, dist2_large_airport=142.414627001912, dist2_medium_airport=26.0419084149722, dist_to_shore=128.563170400209, number_of_business=13, adjusted_gross_income=38223, total_income_amount=38553.0, number_of_returns=630),\n",
       " Row(zip=1012, lat=42.38495, lng=-72.84675, city='Chesterfield', state_id='MA', state_name='Massachusetts', population=503, density=16.1, county_name='Hampshire', po_box=0, dist_highway=18.3310957824545, dist2_large_airport=138.381683922713, dist2_medium_airport=27.4666636064825, dist_to_shore=137.693284947624, number_of_business=10, adjusted_gross_income=24826, total_income_amount=25102.0, number_of_returns=410),\n",
       " Row(zip=1013, lat=42.16059, lng=-72.60788, city='Chicopee', state_id='MA', state_name='Massachusetts', population=22709, density=1549.1, county_name='Hampden', po_box=0, dist_highway=0.0622862708325111, dist2_large_airport=109.114246004907, dist2_medium_airport=7.07589281728133, dist_to_shore=104.576258028243, number_of_business=317, adjusted_gross_income=516431, total_income_amount=520174.0, number_of_returns=11270),\n",
       " Row(zip=1020, lat=42.17618, lng=-72.56538, city='Chicopee', state_id='MA', state_name='Massachusetts', population=30704, density=951.4, county_name='Hampden', po_box=0, dist_highway=0.925139778004274, dist2_large_airport=106.769094716986, dist2_medium_airport=3.20553313229515, dist_to_shore=105.789420653597, number_of_business=550, adjusted_gross_income=828125, total_income_amount=834614.0, number_of_returns=15760)]"
      ]
     },
     "execution_count": 40,
     "metadata": {},
     "output_type": "execute_result"
    }
   ],
   "source": [
    "df.head(10)"
   ]
  },
  {
   "cell_type": "code",
   "execution_count": 41,
   "id": "491ee755",
   "metadata": {},
   "outputs": [],
   "source": [
    "df_limited= df[['zip', 'city', 'state_id', 'number_of_business', 'adjusted_gross_income', 'total_income_amount']]\n",
    "# df_limited= df[['_c0', '_c3', '_c4', '_c14', '_c15', '_c16']]"
   ]
  },
  {
   "cell_type": "code",
   "execution_count": 42,
   "id": "c86d671c-1fcd-4aea-b172-2ff4b7ac4b68",
   "metadata": {},
   "outputs": [
    {
     "name": "stdout",
     "output_type": "stream",
     "text": [
      "root\n",
      " |-- zip: integer (nullable = true)\n",
      " |-- city: string (nullable = true)\n",
      " |-- state_id: string (nullable = true)\n",
      " |-- number_of_business: integer (nullable = true)\n",
      " |-- adjusted_gross_income: integer (nullable = true)\n",
      " |-- total_income_amount: double (nullable = true)\n",
      "\n"
     ]
    }
   ],
   "source": [
    "df_limited.printSchema()"
   ]
  },
  {
   "cell_type": "code",
   "execution_count": 47,
   "id": "a4d95350-fd76-47e2-ac6e-ec7da8cfa6f3",
   "metadata": {},
   "outputs": [
    {
     "name": "stdout",
     "output_type": "stream",
     "text": [
      "+-------+-----------------+------------------+---------------------+-------------------+\n",
      "|summary|              zip|number_of_business|adjusted_gross_income|total_income_amount|\n",
      "+-------+-----------------+------------------+---------------------+-------------------+\n",
      "|  count|            33704|             33624|                33704|              33704|\n",
      "|   mean|49842.60782103014| 260.6949202950274|   425134.10239140753| 429894.33857557003|\n",
      "| stddev|27451.11144214845|432.11281369671184|    756151.9395034771|  764441.5938419583|\n",
      "|    min|             1001|                 1|                  577|              577.0|\n",
      "|    25%|            27051|                19|                32471|         32873.0001|\n",
      "|    50%|            49776|                74|               112840|           114006.0|\n",
      "|    75%|            72206|               333|               505154|           509227.0|\n",
      "|    max|            99929|              7263|             15224673|        1.5277982E7|\n",
      "+-------+-----------------+------------------+---------------------+-------------------+\n",
      "\n"
     ]
    }
   ],
   "source": [
    "# df_limited.summary().show()\n",
    "numeric_cols = [c for c, t in df_limited.dtypes if t.startswith('string')==False]\n",
    "df_limited.select(*numeric_cols).summary().show()"
   ]
  },
  {
   "cell_type": "code",
   "execution_count": 49,
   "id": "32a3379d-2309-4817-901e-a44c7a1d8559",
   "metadata": {},
   "outputs": [
    {
     "name": "stdout",
     "output_type": "stream",
     "text": [
      "80\n",
      "+-----+--------------+--------+------------------+---------------------+-------------------+\n",
      "|  zip|          city|state_id|number_of_business|adjusted_gross_income|total_income_amount|\n",
      "+-----+--------------+--------+------------------+---------------------+-------------------+\n",
      "|12115| Malden Bridge|      NY|              NULL|                19103|         19154.0002|\n",
      "|14819|       Cameron|      NY|              NULL|                12293|         12320.0002|\n",
      "|15429|         Denbo|      PA|              NULL|                 4667|             4667.0|\n",
      "|16691| Wells Tannery|      PA|              NULL|                 8832|          8858.0004|\n",
      "|20606|         Abell|      MD|              NULL|                12492|         12533.0002|\n",
      "|22504|      Laneview|      VA|              NULL|                 6260|          6292.0003|\n",
      "|23068|    Hallieford|      VA|              NULL|                 8923|          8956.0002|\n",
      "|23488|       Withams|      VA|              NULL|                 3845|          3862.0001|\n",
      "|24167|Staffordsville|      VA|              NULL|                 6775|          6784.0003|\n",
      "|25007|        Arnett|      WV|              NULL|                 7498|          7512.0003|\n",
      "|25060|       Dorothy|      WV|              NULL|                 4648|             4648.0|\n",
      "|25142|        Nellis|      WV|              NULL|                 4657|             4657.0|\n",
      "|25169|     Ridgeview|      WV|              NULL|                 4993|          5004.0002|\n",
      "|25608|       Baisden|      WV|              NULL|                 7098|          7108.0003|\n",
      "|25902|           Odd|      WV|              NULL|                 4857|          4862.0002|\n",
      "|25908|    Princewick|      WV|              NULL|                 3735|             3735.0|\n",
      "|36317|       Clopton|      AL|              NULL|                 8559|          8593.0002|\n",
      "|36740|      Forkland|      AL|              NULL|                18019|         18145.0001|\n",
      "|37351|   Lupton City|      TN|              NULL|                 7755|          7818.0002|\n",
      "|37396|     Whiteside|      TN|              NULL|                 5690|          5698.0002|\n",
      "+-----+--------------+--------+------------------+---------------------+-------------------+\n",
      "only showing top 20 rows\n",
      "\n"
     ]
    }
   ],
   "source": [
    "print(33704-33624)\n",
    "df_limited.filter(col('number_of_business').isNull()).show()"
   ]
  },
  {
   "cell_type": "markdown",
   "id": "7bcee068",
   "metadata": {},
   "source": [
    "## AGI by shore"
   ]
  },
  {
   "cell_type": "code",
   "execution_count": null,
   "id": "7ab710d8",
   "metadata": {},
   "outputs": [],
   "source": []
  },
  {
   "cell_type": "code",
   "execution_count": null,
   "id": "5e7c9df7",
   "metadata": {},
   "outputs": [],
   "source": []
  },
  {
   "cell_type": "code",
   "execution_count": null,
   "id": "72fbcc2a",
   "metadata": {},
   "outputs": [],
   "source": []
  },
  {
   "cell_type": "markdown",
   "id": "3f36e5af",
   "metadata": {},
   "source": [
    "## airport shore nuber of business zipcode"
   ]
  },
  {
   "cell_type": "code",
   "execution_count": null,
   "id": "e27779ac",
   "metadata": {},
   "outputs": [],
   "source": []
  },
  {
   "cell_type": "code",
   "execution_count": null,
   "id": "7478c281",
   "metadata": {},
   "outputs": [],
   "source": []
  },
  {
   "cell_type": "markdown",
   "id": "3eedb142",
   "metadata": {},
   "source": []
  },
  {
   "cell_type": "markdown",
   "id": "1132d252",
   "metadata": {},
   "source": [
    "## number of returns by county"
   ]
  },
  {
   "cell_type": "code",
   "execution_count": null,
   "id": "166c4baf",
   "metadata": {},
   "outputs": [],
   "source": []
  },
  {
   "cell_type": "code",
   "execution_count": null,
   "id": "5a418de3",
   "metadata": {},
   "outputs": [],
   "source": []
  },
  {
   "cell_type": "code",
   "execution_count": null,
   "id": "019877f3",
   "metadata": {},
   "outputs": [],
   "source": []
  },
  {
   "cell_type": "markdown",
   "id": "44de0fbf",
   "metadata": {},
   "source": [
    "## Distance highway/airport Pop by zipcode"
   ]
  },
  {
   "cell_type": "code",
   "execution_count": null,
   "id": "14a7f514",
   "metadata": {},
   "outputs": [],
   "source": []
  },
  {
   "cell_type": "code",
   "execution_count": null,
   "id": "79baba08",
   "metadata": {},
   "outputs": [],
   "source": []
  },
  {
   "cell_type": "code",
   "execution_count": null,
   "id": "ae75fe9a",
   "metadata": {},
   "outputs": [],
   "source": []
  }
 ],
 "metadata": {
  "kernelspec": {
   "display_name": "Python 3 (ipykernel)",
   "language": "python",
   "name": "python3"
  },
  "language_info": {
   "codemirror_mode": {
    "name": "ipython",
    "version": 3
   },
   "file_extension": ".py",
   "mimetype": "text/x-python",
   "name": "python",
   "nbconvert_exporter": "python",
   "pygments_lexer": "ipython3",
   "version": "3.11.11"
  }
 },
 "nbformat": 4,
 "nbformat_minor": 5
}
