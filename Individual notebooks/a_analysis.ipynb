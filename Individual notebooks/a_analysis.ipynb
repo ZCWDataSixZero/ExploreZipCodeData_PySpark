{
 "cells": [
  {
   "cell_type": "code",
   "execution_count": null,
   "id": "5d50a085-af1e-4a70-add6-b30a8e95cdbe",
   "metadata": {},
   "outputs": [],
   "source": [
    "pip install pyspark"
   ]
  },
  {
   "cell_type": "code",
   "execution_count": 3,
   "id": "3bda33c3",
   "metadata": {},
   "outputs": [],
   "source": [
    "\n",
    "\n",
    "import shutil\n",
    "import os\n",
    "import pandas as pd\n",
    "import matplotlib.pyplot as plt\n",
    "import seaborn as sns\n",
    "from pyspark.sql.functions import col, avg, max, min, countDistinct, sum, round"
   ]
  },
  {
   "cell_type": "code",
   "execution_count": 4,
   "id": "b10b5d0b",
   "metadata": {},
   "outputs": [],
   "source": [
    "## Set up PySpark environment\n",
    "from pyspark.sql import SparkSession"
   ]
  },
  {
   "cell_type": "code",
   "execution_count": 5,
   "id": "41756b34",
   "metadata": {},
   "outputs": [
    {
     "name": "stderr",
     "output_type": "stream",
     "text": [
      "25/04/18 14:42:35 WARN Utils: Your hostname, Zipcoders-MacBook-Pro-6.local resolves to a loopback address: 127.0.0.1; using 192.168.3.107 instead (on interface en0)\n",
      "25/04/18 14:42:35 WARN Utils: Set SPARK_LOCAL_IP if you need to bind to another address\n",
      "Setting default log level to \"WARN\".\n",
      "To adjust logging level use sc.setLogLevel(newLevel). For SparkR, use setLogLevel(newLevel).\n",
      "25/04/18 14:42:35 WARN NativeCodeLoader: Unable to load native-hadoop library for your platform... using builtin-java classes where applicable\n",
      "25/04/18 14:42:35 WARN Utils: Service 'SparkUI' could not bind on port 4040. Attempting port 4041.\n"
     ]
    },
    {
     "data": {
      "text/html": [
       "\n",
       "            <div>\n",
       "                <p><b>SparkSession - in-memory</b></p>\n",
       "                \n",
       "        <div>\n",
       "            <p><b>SparkContext</b></p>\n",
       "\n",
       "            <p><a href=\"http://192.168.3.107:4041\">Spark UI</a></p>\n",
       "\n",
       "            <dl>\n",
       "              <dt>Version</dt>\n",
       "                <dd><code>v3.5.5</code></dd>\n",
       "              <dt>Master</dt>\n",
       "                <dd><code>local[*]</code></dd>\n",
       "              <dt>AppName</dt>\n",
       "                <dd><code>ZipCode PySpark Learning</code></dd>\n",
       "            </dl>\n",
       "        </div>\n",
       "        \n",
       "            </div>\n",
       "        "
      ],
      "text/plain": [
       "<pyspark.sql.session.SparkSession at 0x12bbe8590>"
      ]
     },
     "execution_count": 5,
     "metadata": {},
     "output_type": "execute_result"
    }
   ],
   "source": [
    "## Initialize the SparkSession\n",
    "# appName is the name of the application\n",
    "# getOrCreate() creates a new session or retrieves an existing one\n",
    "spark = SparkSession.builder \\\n",
    "    .appName(\"ZipCode PySpark Learning\") \\\n",
    "        .getOrCreate()\n",
    "\n",
    "## Verify that SparkSession is created\n",
    "spark"
   ]
  },
  {
   "cell_type": "code",
   "execution_count": null,
   "id": "d36e4bca-9eb2-462c-a5f5-40158a7d5a4c",
   "metadata": {},
   "outputs": [],
   "source": [
    "\n",
    "## Read the CSV file into a DataFrame\n",
    "df = spark.read.csv(\"/Users/angel/Desktop/Python_Projects/ExploreZipCodeData_PySpark/data/zip_code_demographics.csv\", header=True, inferSchema=True)"
   ]
  },
  {
   "cell_type": "code",
   "execution_count": 9,
   "id": "f87190cf-9cf1-4feb-b4df-bb31b9f23faa",
   "metadata": {},
   "outputs": [
    {
     "name": "stdout",
     "output_type": "stream",
     "text": [
      "+----+--------+---------+---------------+--------+-------------+----------+-------+-----------+------+------------------+-------------------+--------------------+----------------+------------------+---------------------+-------------------+-----------------+\n",
      "| zip|     lat|      lng|           city|state_id|   state_name|population|density|county_name|po_box|      dist_highway|dist2_large_airport|dist2_medium_airport|   dist_to_shore|number_of_business|adjusted_gross_income|total_income_amount|number_of_returns|\n",
      "+----+--------+---------+---------------+--------+-------------+----------+-------+-----------+------+------------------+-------------------+--------------------+----------------+------------------+---------------------+-------------------+-----------------+\n",
      "|1001|42.06262|-72.62521|         Agawam|      MA|Massachusetts|     16088|  550.1|    Hampden|     0|  1.38703489958776|   106.145765467407|    12.9462123500772|93.0492507357679|               438|               598807|           604769.0|             9320|\n",
      "|1002|42.37633|-72.46462|        Amherst|      MA|Massachusetts|     27323|  198.1|  Hampshire|     0|  14.4381771787811|   112.264368137872|    21.0800788136799|133.370143966814|               571|               989558|          1005796.0|             9880|\n",
      "|1005|42.42117|-72.10655|          Barre|      MA|Massachusetts|      4947|   44.2|  Worcester|     0|  16.7883389378764|    90.664964214599|    25.5477180736873|97.6398810953817|                97|               164207|           166054.0|             2490|\n",
      "|1007|42.28163|-72.40009|    Belchertown|      MA|Massachusetts|     15304|  107.7|  Hampshire|     0|   13.663839468365|   101.552921217705|     14.762395370048|114.406033754504|               217|               647074|           654739.0|             7970|\n",
      "|1008|42.18234|-72.95819|      Blandford|      MA|Massachusetts|      1171|    7.4|    Hampden|     0|  2.59365546872497|    136.54879743219|    20.1779499690055|107.466779445914|                18|                47826|         48241.0001|              660|\n",
      "|1010|42.12904|-72.20597|      Brimfield|      MA|Massachusetts|      3703|   40.6|    Hampden|     0|  4.73727136188264|   78.6454995903817|    28.0492624787917|94.9280235181023|                73|               155666|           157677.0|             1980|\n",
      "|1011|42.30233|-72.96448|        Chester|      MA|Massachusetts|      1332|   15.7|    Hampden|     0|  8.05869305726245|   142.414627001912|    26.0419084149722|128.563170400209|                13|                38223|            38553.0|              630|\n",
      "|1012|42.38495|-72.84675|   Chesterfield|      MA|Massachusetts|       503|   16.1|  Hampshire|     0|  18.3310957824545|   138.381683922713|    27.4666636064825|137.693284947624|                10|                24826|            25102.0|              410|\n",
      "|1013|42.16059|-72.60788|       Chicopee|      MA|Massachusetts|     22709| 1549.1|    Hampden|     0|0.0622862708325111|   109.114246004907|    7.07589281728133|104.576258028243|               317|               516431|           520174.0|            11270|\n",
      "|1020|42.17618|-72.56538|       Chicopee|      MA|Massachusetts|     30704|  951.4|    Hampden|     0| 0.925139778004274|   106.769094716986|    3.20553313229515|105.789420653597|               550|               828125|           834614.0|            15760|\n",
      "|1022|42.19721|-72.54249|       Chicopee|      MA|Massachusetts|      2235|  179.2|    Hampden|     0|  3.91926246782393|   106.224583169209|   0.727276755734925|107.544849378402|                63|                56336|            56674.0|             1180|\n",
      "|1026|   42.46|    -72.9|     Cummington|      MA|Massachusetts|      1071|   14.7|  Hampshire|     0|  24.3805910062325|   146.550669800719|    36.8660922281397|147.638866780228|                18|                32259|            32739.0|              520|\n",
      "|1027|42.29506|-72.74303|    Easthampton|      MA|Massachusetts|     17708|  168.5|  Hampshire|     0|  9.87359871206748|   125.949999053977|    15.4289439784155| 124.36751323717|               372|               671249|           680457.0|            10070|\n",
      "|1028|42.05967|-72.49899|East Longmeadow|      MA|Massachusetts|     16386|  489.6|    Hampden|     0|   7.4060174552429|   96.3191778717821|    15.2259292870845|90.9561490159946|               503|               835044|           845428.0|             8540|\n",
      "|1030|42.06869|-72.67967|  Feeding Hills|      MA|Massachusetts|     12627|  405.3|    Hampden|     0|  1.41993513386707|   110.600332715728|    10.3421978954343|93.9142965327369|               201|               445380|           449958.0|             6170|\n",
      "|1031|42.32782|-72.19191|   Gilbertville|      MA|Massachusetts|      1577|   90.4|  Worcester|     0|  17.2230627967282|   92.1854551818214|    26.8635082123469|105.585525845634|                20|                28513|            28677.0|              570|\n",
      "|1032|42.45313|-72.81965|         Goshen|      MA|Massachusetts|       430|   17.2|  Hampshire|     0|  17.3478940942923|   140.660105470833|    33.9357857667475|144.073456496879|                19|                18694|         18873.0001|              270|\n",
      "|1033|42.26082|-72.50361|         Granby|      MA|Massachusetts|      6110|   84.8|  Hampshire|     0|  9.03480531317326|   107.168422666907|    7.86129552476818|113.854927890354|               131|               264390|           268331.0|             3370|\n",
      "|1034| 42.0826|-72.95611|      Granville|      MA|Massachusetts|      1991|   11.3|    Hampden|     0|  11.3989512111861|   132.748945811302|    21.5271085784437|  95.75593334735|                28|                80085|            81270.0|             1040|\n",
      "|1035|   42.35|   -72.58|         Hadley|      MA|Massachusetts|      5293|   88.5|  Hampshire|     0|  4.05769513820471|   117.969161035837|    17.7406423148569|125.712746119424|               309|               227576|           231353.0|             2920|\n",
      "+----+--------+---------+---------------+--------+-------------+----------+-------+-----------+------+------------------+-------------------+--------------------+----------------+------------------+---------------------+-------------------+-----------------+\n",
      "only showing top 20 rows\n",
      "\n"
     ]
    }
   ],
   "source": [
    "df.show()"
   ]
  },
  {
   "cell_type": "code",
   "execution_count": 10,
   "id": "e1ad433c-4841-4cec-83ee-38a55dca8de8",
   "metadata": {},
   "outputs": [
    {
     "data": {
      "text/plain": [
       "['zip',\n",
       " 'lat',\n",
       " 'lng',\n",
       " 'city',\n",
       " 'state_id',\n",
       " 'state_name',\n",
       " 'population',\n",
       " 'density',\n",
       " 'county_name',\n",
       " 'po_box',\n",
       " 'dist_highway',\n",
       " 'dist2_large_airport',\n",
       " 'dist2_medium_airport',\n",
       " 'dist_to_shore',\n",
       " 'number_of_business',\n",
       " 'adjusted_gross_income',\n",
       " 'total_income_amount',\n",
       " 'number_of_returns']"
      ]
     },
     "execution_count": 10,
     "metadata": {},
     "output_type": "execute_result"
    }
   ],
   "source": [
    "#attributes of the dataframe\n",
    "df.columns"
   ]
  },
  {
   "cell_type": "code",
   "execution_count": 12,
   "id": "ce4fbc6b",
   "metadata": {},
   "outputs": [
    {
     "name": "stdout",
     "output_type": "stream",
     "text": [
      "(33704, 18)\n"
     ]
    }
   ],
   "source": [
    "#size of dataframe\n",
    "print((df.count(), len(df.columns)))"
   ]
  },
  {
   "cell_type": "markdown",
   "id": "5546b3b7",
   "metadata": {},
   "source": [
    "## Top 10 Cities Closest to the Shore Ranked By # of Business"
   ]
  },
  {
   "cell_type": "code",
   "execution_count": 21,
   "id": "06d6a03a",
   "metadata": {},
   "outputs": [
    {
     "name": "stdout",
     "output_type": "stream",
     "text": [
      "+--------+---------------+------------------+----------------+\n",
      "|state_id|           city|number_of_business|   dist_to_shore|\n",
      "+--------+---------------+------------------+----------------+\n",
      "|      MA|         Agawam|               438|93.0492507357679|\n",
      "|      MA|        Amherst|               571|133.370143966814|\n",
      "|      MA|          Barre|                97|97.6398810953817|\n",
      "|      MA|    Belchertown|               217|114.406033754504|\n",
      "|      MA|      Blandford|                18|107.466779445914|\n",
      "|      MA|      Brimfield|                73|94.9280235181023|\n",
      "|      MA|        Chester|                13|128.563170400209|\n",
      "|      MA|   Chesterfield|                10|137.693284947624|\n",
      "|      MA|       Chicopee|               317|104.576258028243|\n",
      "|      MA|       Chicopee|               550|105.789420653597|\n",
      "|      MA|       Chicopee|                63|107.544849378402|\n",
      "|      MA|     Cummington|                18|147.638866780228|\n",
      "|      MA|    Easthampton|               372| 124.36751323717|\n",
      "|      MA|East Longmeadow|               503|90.9561490159946|\n",
      "|      MA|  Feeding Hills|               201|93.9142965327369|\n",
      "|      MA|   Gilbertville|                20|105.585525845634|\n",
      "|      MA|         Goshen|                19|144.073456496879|\n",
      "|      MA|         Granby|               131|113.854927890354|\n",
      "|      MA|      Granville|                28|  95.75593334735|\n",
      "|      MA|         Hadley|               309|125.712746119424|\n",
      "+--------+---------------+------------------+----------------+\n",
      "only showing top 20 rows\n",
      "\n"
     ]
    }
   ],
   "source": [
    "#Creating a new DataFrame with the needed columns\n",
    "sho_df = df[['state_id', 'city', 'number_of_business', 'dist_to_shore']]\n",
    "sho_df.show()"
   ]
  },
  {
   "cell_type": "markdown",
   "id": "c5ea7d03",
   "metadata": {},
   "source": [
    " Clearning up the data -- combining rows and rounding long decimals"
   ]
  },
  {
   "cell_type": "code",
   "execution_count": null,
   "id": "09b92168",
   "metadata": {},
   "outputs": [
    {
     "name": "stdout",
     "output_type": "stream",
     "text": [
      "+--------------------------+\n",
      "|concat(city, , , state_id)|\n",
      "+--------------------------+\n",
      "|                Agawam, MA|\n",
      "|               Amherst, MA|\n",
      "|                 Barre, MA|\n",
      "|           Belchertown, MA|\n",
      "|             Blandford, MA|\n",
      "|             Brimfield, MA|\n",
      "|               Chester, MA|\n",
      "|          Chesterfield, MA|\n",
      "|              Chicopee, MA|\n",
      "|              Chicopee, MA|\n",
      "|              Chicopee, MA|\n",
      "|            Cummington, MA|\n",
      "|           Easthampton, MA|\n",
      "|       East Longmeadow, MA|\n",
      "|         Feeding Hills, MA|\n",
      "|          Gilbertville, MA|\n",
      "|                Goshen, MA|\n",
      "|                Granby, MA|\n",
      "|             Granville, MA|\n",
      "|                Hadley, MA|\n",
      "+--------------------------+\n",
      "only showing top 20 rows\n",
      "\n"
     ]
    }
   ],
   "source": [
    "# from pyspark.sql.functions import concat, lit\n",
    "\n",
    "# #Combining city and state_id\n",
    "# combined_sho_df = sho_df.select(concat(col('city'), lit(', '), col('state_id')))\n",
    "# combined_sho_df.show()"
   ]
  },
  {
   "cell_type": "code",
   "execution_count": null,
   "id": "b3cb95ce",
   "metadata": {},
   "outputs": [
    {
     "name": "stdout",
     "output_type": "stream",
     "text": [
      "+--------+------------+------------------+-------------+\n",
      "|state_id|        city|number_of_business|dist_to_shore|\n",
      "+--------+------------+------------------+-------------+\n",
      "|      MA|      Agawam|               438|        93.05|\n",
      "|      MA|     Amherst|               571|       133.37|\n",
      "|      MA|       Barre|                97|        97.64|\n",
      "|      MA| Belchertown|               217|       114.41|\n",
      "|      MA|   Blandford|                18|       107.47|\n",
      "|      MA|   Brimfield|                73|        94.93|\n",
      "|      MA|     Chester|                13|       128.56|\n",
      "|      MA|Chesterfield|                10|       137.69|\n",
      "|      MA|    Chicopee|               317|       104.58|\n",
      "|      MA|    Chicopee|               550|       105.79|\n",
      "+--------+------------+------------------+-------------+\n",
      "only showing top 10 rows\n",
      "\n"
     ]
    }
   ],
   "source": [
    "#Rounding dist_to_shore to 2 decimal places\n",
    "sho_df = sho_df.withColumn('dist_to_shore', round('dist_to_shore', 2))\n",
    "sho_df.show(10)"
   ]
  },
  {
   "cell_type": "code",
   "execution_count": 28,
   "id": "a7c8e976",
   "metadata": {},
   "outputs": [
    {
     "name": "stdout",
     "output_type": "stream",
     "text": [
      "(33671, 4)\n"
     ]
    }
   ],
   "source": [
    "#dropping duplicates and sort by distance to shore\n",
    "unique_sho_df = sho_df.dropDuplicates()\n",
    "print((unique_sho_df.count(), len(unique_sho_df.columns)))\n"
   ]
  },
  {
   "cell_type": "code",
   "execution_count": null,
   "id": "491ee755",
   "metadata": {},
   "outputs": [
    {
     "name": "stdout",
     "output_type": "stream",
     "text": [
      "+--------+----------+------------------+-------------+\n",
      "|state_id|      city|number_of_business|dist_to_shore|\n",
      "+--------+----------+------------------+-------------+\n",
      "|      MI| Luna Pier|                12|         0.01|\n",
      "|      FL|   Captiva|                89|         0.01|\n",
      "|      WA|Bellingham|              1993|         0.02|\n",
      "|      ME| Matinicus|                69|         0.02|\n",
      "|      AK|Petersburg|               147|         0.02|\n",
      "|      FL|  Key West|              1546|         0.07|\n",
      "|      MD|     Issue|                 8|         0.09|\n",
      "|      ME|    Sunset|                 7|          0.1|\n",
      "|      NC|  Ocracoke|                18|          0.1|\n",
      "|      NJ| Highlands|                86|         0.14|\n",
      "+--------+----------+------------------+-------------+\n",
      "\n"
     ]
    }
   ],
   "source": [
    "#sort dataset closest to farthest to shore\n",
    "sorted_sho_df = unique_sho_df.sort(col('dist_to_shore').asc())\n",
    "top_10_cities = sorted_sho_df.limit(10)\n",
    "top_10_cities.show()"
   ]
  },
  {
   "cell_type": "code",
   "execution_count": 42,
   "id": "72fbcc2a",
   "metadata": {},
   "outputs": [
    {
     "data": {
      "text/html": [
       "<div>\n",
       "<style scoped>\n",
       "    .dataframe tbody tr th:only-of-type {\n",
       "        vertical-align: middle;\n",
       "    }\n",
       "\n",
       "    .dataframe tbody tr th {\n",
       "        vertical-align: top;\n",
       "    }\n",
       "\n",
       "    .dataframe thead th {\n",
       "        text-align: right;\n",
       "    }\n",
       "</style>\n",
       "<table border=\"1\" class=\"dataframe\">\n",
       "  <thead>\n",
       "    <tr style=\"text-align: right;\">\n",
       "      <th></th>\n",
       "      <th>state_id</th>\n",
       "      <th>city</th>\n",
       "      <th>number_of_business</th>\n",
       "      <th>dist_to_shore</th>\n",
       "    </tr>\n",
       "  </thead>\n",
       "  <tbody>\n",
       "    <tr>\n",
       "      <th>0</th>\n",
       "      <td>MI</td>\n",
       "      <td>Luna Pier</td>\n",
       "      <td>12</td>\n",
       "      <td>0.01</td>\n",
       "    </tr>\n",
       "    <tr>\n",
       "      <th>1</th>\n",
       "      <td>FL</td>\n",
       "      <td>Captiva</td>\n",
       "      <td>89</td>\n",
       "      <td>0.01</td>\n",
       "    </tr>\n",
       "    <tr>\n",
       "      <th>2</th>\n",
       "      <td>WA</td>\n",
       "      <td>Bellingham</td>\n",
       "      <td>1993</td>\n",
       "      <td>0.02</td>\n",
       "    </tr>\n",
       "    <tr>\n",
       "      <th>3</th>\n",
       "      <td>ME</td>\n",
       "      <td>Matinicus</td>\n",
       "      <td>69</td>\n",
       "      <td>0.02</td>\n",
       "    </tr>\n",
       "    <tr>\n",
       "      <th>4</th>\n",
       "      <td>AK</td>\n",
       "      <td>Petersburg</td>\n",
       "      <td>147</td>\n",
       "      <td>0.02</td>\n",
       "    </tr>\n",
       "  </tbody>\n",
       "</table>\n",
       "</div>"
      ],
      "text/plain": [
       "  state_id        city  number_of_business  dist_to_shore\n",
       "0       MI   Luna Pier                  12           0.01\n",
       "1       FL     Captiva                  89           0.01\n",
       "2       WA  Bellingham                1993           0.02\n",
       "3       ME   Matinicus                  69           0.02\n",
       "4       AK  Petersburg                 147           0.02"
      ]
     },
     "execution_count": 42,
     "metadata": {},
     "output_type": "execute_result"
    }
   ],
   "source": [
    "#plotting the dataframe\n",
    "top_10_cities_df = top_10_cities.toPandas()\n",
    "top_10_cities_df.head()"
   ]
  },
  {
   "cell_type": "code",
   "execution_count": 49,
   "id": "fb73016d",
   "metadata": {},
   "outputs": [
    {
     "data": {
      "text/html": [
       "<div>\n",
       "<style scoped>\n",
       "    .dataframe tbody tr th:only-of-type {\n",
       "        vertical-align: middle;\n",
       "    }\n",
       "\n",
       "    .dataframe tbody tr th {\n",
       "        vertical-align: top;\n",
       "    }\n",
       "\n",
       "    .dataframe thead th {\n",
       "        text-align: right;\n",
       "    }\n",
       "</style>\n",
       "<table border=\"1\" class=\"dataframe\">\n",
       "  <thead>\n",
       "    <tr style=\"text-align: right;\">\n",
       "      <th></th>\n",
       "      <th>state_id</th>\n",
       "      <th>city</th>\n",
       "      <th>number_of_business</th>\n",
       "      <th>dist_to_shore</th>\n",
       "    </tr>\n",
       "  </thead>\n",
       "  <tbody>\n",
       "    <tr>\n",
       "      <th>0</th>\n",
       "      <td>MI</td>\n",
       "      <td>Luna Pier, MI</td>\n",
       "      <td>12</td>\n",
       "      <td>0.01</td>\n",
       "    </tr>\n",
       "    <tr>\n",
       "      <th>1</th>\n",
       "      <td>FL</td>\n",
       "      <td>Captiva, FL</td>\n",
       "      <td>89</td>\n",
       "      <td>0.01</td>\n",
       "    </tr>\n",
       "    <tr>\n",
       "      <th>2</th>\n",
       "      <td>WA</td>\n",
       "      <td>Bellingham, WA</td>\n",
       "      <td>1993</td>\n",
       "      <td>0.02</td>\n",
       "    </tr>\n",
       "    <tr>\n",
       "      <th>3</th>\n",
       "      <td>ME</td>\n",
       "      <td>Matinicus, ME</td>\n",
       "      <td>69</td>\n",
       "      <td>0.02</td>\n",
       "    </tr>\n",
       "    <tr>\n",
       "      <th>4</th>\n",
       "      <td>AK</td>\n",
       "      <td>Petersburg, AK</td>\n",
       "      <td>147</td>\n",
       "      <td>0.02</td>\n",
       "    </tr>\n",
       "  </tbody>\n",
       "</table>\n",
       "</div>"
      ],
      "text/plain": [
       "  state_id            city  number_of_business  dist_to_shore\n",
       "0       MI   Luna Pier, MI                  12           0.01\n",
       "1       FL     Captiva, FL                  89           0.01\n",
       "2       WA  Bellingham, WA                1993           0.02\n",
       "3       ME   Matinicus, ME                  69           0.02\n",
       "4       AK  Petersburg, AK                 147           0.02"
      ]
     },
     "execution_count": 49,
     "metadata": {},
     "output_type": "execute_result"
    }
   ],
   "source": [
    "# Combining columns after ensuring compatibility\n",
    "top_10_cities_df['city'] = top_10_cities_df['city'] + ', ' + top_10_cities_df['state_id']\n",
    "top_10_cities_df.head()"
   ]
  },
  {
   "cell_type": "code",
   "execution_count": 50,
   "id": "ff923528",
   "metadata": {},
   "outputs": [
    {
     "data": {
      "text/html": [
       "<div>\n",
       "<style scoped>\n",
       "    .dataframe tbody tr th:only-of-type {\n",
       "        vertical-align: middle;\n",
       "    }\n",
       "\n",
       "    .dataframe tbody tr th {\n",
       "        vertical-align: top;\n",
       "    }\n",
       "\n",
       "    .dataframe thead th {\n",
       "        text-align: right;\n",
       "    }\n",
       "</style>\n",
       "<table border=\"1\" class=\"dataframe\">\n",
       "  <thead>\n",
       "    <tr style=\"text-align: right;\">\n",
       "      <th></th>\n",
       "      <th>city</th>\n",
       "      <th>number_of_business</th>\n",
       "      <th>dist_to_shore</th>\n",
       "    </tr>\n",
       "  </thead>\n",
       "  <tbody>\n",
       "    <tr>\n",
       "      <th>0</th>\n",
       "      <td>Luna Pier, MI</td>\n",
       "      <td>12</td>\n",
       "      <td>0.01</td>\n",
       "    </tr>\n",
       "    <tr>\n",
       "      <th>1</th>\n",
       "      <td>Captiva, FL</td>\n",
       "      <td>89</td>\n",
       "      <td>0.01</td>\n",
       "    </tr>\n",
       "    <tr>\n",
       "      <th>2</th>\n",
       "      <td>Bellingham, WA</td>\n",
       "      <td>1993</td>\n",
       "      <td>0.02</td>\n",
       "    </tr>\n",
       "    <tr>\n",
       "      <th>3</th>\n",
       "      <td>Matinicus, ME</td>\n",
       "      <td>69</td>\n",
       "      <td>0.02</td>\n",
       "    </tr>\n",
       "    <tr>\n",
       "      <th>4</th>\n",
       "      <td>Petersburg, AK</td>\n",
       "      <td>147</td>\n",
       "      <td>0.02</td>\n",
       "    </tr>\n",
       "    <tr>\n",
       "      <th>5</th>\n",
       "      <td>Key West, FL</td>\n",
       "      <td>1546</td>\n",
       "      <td>0.07</td>\n",
       "    </tr>\n",
       "    <tr>\n",
       "      <th>6</th>\n",
       "      <td>Issue, MD</td>\n",
       "      <td>8</td>\n",
       "      <td>0.09</td>\n",
       "    </tr>\n",
       "    <tr>\n",
       "      <th>7</th>\n",
       "      <td>Sunset, ME</td>\n",
       "      <td>7</td>\n",
       "      <td>0.10</td>\n",
       "    </tr>\n",
       "    <tr>\n",
       "      <th>8</th>\n",
       "      <td>Ocracoke, NC</td>\n",
       "      <td>18</td>\n",
       "      <td>0.10</td>\n",
       "    </tr>\n",
       "    <tr>\n",
       "      <th>9</th>\n",
       "      <td>Highlands, NJ</td>\n",
       "      <td>86</td>\n",
       "      <td>0.14</td>\n",
       "    </tr>\n",
       "  </tbody>\n",
       "</table>\n",
       "</div>"
      ],
      "text/plain": [
       "             city  number_of_business  dist_to_shore\n",
       "0   Luna Pier, MI                  12           0.01\n",
       "1     Captiva, FL                  89           0.01\n",
       "2  Bellingham, WA                1993           0.02\n",
       "3   Matinicus, ME                  69           0.02\n",
       "4  Petersburg, AK                 147           0.02\n",
       "5    Key West, FL                1546           0.07\n",
       "6       Issue, MD                   8           0.09\n",
       "7      Sunset, ME                   7           0.10\n",
       "8    Ocracoke, NC                  18           0.10\n",
       "9   Highlands, NJ                  86           0.14"
      ]
     },
     "execution_count": 50,
     "metadata": {},
     "output_type": "execute_result"
    }
   ],
   "source": [
    "#drop state column\n",
    "top_10_cities_df = top_10_cities_df.drop('state_id', axis=1)\n",
    "top_10_cities_df"
   ]
  },
  {
   "cell_type": "code",
   "execution_count": 51,
   "id": "4056aae0",
   "metadata": {},
   "outputs": [
    {
     "data": {
      "text/html": [
       "<div>\n",
       "<style scoped>\n",
       "    .dataframe tbody tr th:only-of-type {\n",
       "        vertical-align: middle;\n",
       "    }\n",
       "\n",
       "    .dataframe tbody tr th {\n",
       "        vertical-align: top;\n",
       "    }\n",
       "\n",
       "    .dataframe thead th {\n",
       "        text-align: right;\n",
       "    }\n",
       "</style>\n",
       "<table border=\"1\" class=\"dataframe\">\n",
       "  <thead>\n",
       "    <tr style=\"text-align: right;\">\n",
       "      <th></th>\n",
       "      <th>city</th>\n",
       "      <th>number_of_business</th>\n",
       "      <th>dist_to_shore</th>\n",
       "    </tr>\n",
       "  </thead>\n",
       "  <tbody>\n",
       "    <tr>\n",
       "      <th>2</th>\n",
       "      <td>Bellingham, WA</td>\n",
       "      <td>1993</td>\n",
       "      <td>0.02</td>\n",
       "    </tr>\n",
       "    <tr>\n",
       "      <th>5</th>\n",
       "      <td>Key West, FL</td>\n",
       "      <td>1546</td>\n",
       "      <td>0.07</td>\n",
       "    </tr>\n",
       "    <tr>\n",
       "      <th>4</th>\n",
       "      <td>Petersburg, AK</td>\n",
       "      <td>147</td>\n",
       "      <td>0.02</td>\n",
       "    </tr>\n",
       "    <tr>\n",
       "      <th>1</th>\n",
       "      <td>Captiva, FL</td>\n",
       "      <td>89</td>\n",
       "      <td>0.01</td>\n",
       "    </tr>\n",
       "    <tr>\n",
       "      <th>9</th>\n",
       "      <td>Highlands, NJ</td>\n",
       "      <td>86</td>\n",
       "      <td>0.14</td>\n",
       "    </tr>\n",
       "    <tr>\n",
       "      <th>3</th>\n",
       "      <td>Matinicus, ME</td>\n",
       "      <td>69</td>\n",
       "      <td>0.02</td>\n",
       "    </tr>\n",
       "    <tr>\n",
       "      <th>8</th>\n",
       "      <td>Ocracoke, NC</td>\n",
       "      <td>18</td>\n",
       "      <td>0.10</td>\n",
       "    </tr>\n",
       "    <tr>\n",
       "      <th>0</th>\n",
       "      <td>Luna Pier, MI</td>\n",
       "      <td>12</td>\n",
       "      <td>0.01</td>\n",
       "    </tr>\n",
       "    <tr>\n",
       "      <th>6</th>\n",
       "      <td>Issue, MD</td>\n",
       "      <td>8</td>\n",
       "      <td>0.09</td>\n",
       "    </tr>\n",
       "    <tr>\n",
       "      <th>7</th>\n",
       "      <td>Sunset, ME</td>\n",
       "      <td>7</td>\n",
       "      <td>0.10</td>\n",
       "    </tr>\n",
       "  </tbody>\n",
       "</table>\n",
       "</div>"
      ],
      "text/plain": [
       "             city  number_of_business  dist_to_shore\n",
       "2  Bellingham, WA                1993           0.02\n",
       "5    Key West, FL                1546           0.07\n",
       "4  Petersburg, AK                 147           0.02\n",
       "1     Captiva, FL                  89           0.01\n",
       "9   Highlands, NJ                  86           0.14\n",
       "3   Matinicus, ME                  69           0.02\n",
       "8    Ocracoke, NC                  18           0.10\n",
       "0   Luna Pier, MI                  12           0.01\n",
       "6       Issue, MD                   8           0.09\n",
       "7      Sunset, ME                   7           0.10"
      ]
     },
     "execution_count": 51,
     "metadata": {},
     "output_type": "execute_result"
    }
   ],
   "source": [
    "ranked_by_biz = top_10_cities_df.sort_values(by='number_of_business', ascending=False)\n",
    "ranked_by_biz"
   ]
  },
  {
   "cell_type": "code",
   "execution_count": null,
   "id": "e27779ac",
   "metadata": {},
   "outputs": [
    {
     "data": {
      "image/png": "[encoded data removed]",
      "text/plain": [
       "<Figure size 640x480 with 1 Axes>"
      ]
     },
     "metadata": {},
     "output_type": "display_data"
    }
   ],
   "source": [
    "#plotting the dataframe\n",
    "ranked_by_biz.plot.barh(x='city', y='number_of_business', color='lightcoral')\n",
    "plt.xlabel('# of Businesses')\n",
    "plt.ylabel('City')\n",
    "plt.title('Top 10 Cities Closest to The Shore Ranked by # of Business')\n",
    "plt.show()"
   ]
  },
  {
   "cell_type": "markdown",
   "id": "10687519",
   "metadata": {},
   "source": []
  },
  {
   "cell_type": "code",
   "execution_count": null,
   "id": "7478c281",
   "metadata": {},
   "outputs": [],
   "source": []
  },
  {
   "cell_type": "markdown",
   "id": "3eedb142",
   "metadata": {},
   "source": []
  },
  {
   "cell_type": "markdown",
   "id": "1132d252",
   "metadata": {},
   "source": [
    "## number of returns by county"
   ]
  },
  {
   "cell_type": "code",
   "execution_count": null,
   "id": "166c4baf",
   "metadata": {},
   "outputs": [],
   "source": []
  },
  {
   "cell_type": "code",
   "execution_count": null,
   "id": "5a418de3",
   "metadata": {},
   "outputs": [],
   "source": []
  },
  {
   "cell_type": "code",
   "execution_count": null,
   "id": "019877f3",
   "metadata": {},
   "outputs": [],
   "source": []
  },
  {
   "cell_type": "markdown",
   "id": "44de0fbf",
   "metadata": {},
   "source": [
    "## Distance highway/airport Pop by zipcode"
   ]
  },
  {
   "cell_type": "code",
   "execution_count": null,
   "id": "14a7f514",
   "metadata": {},
   "outputs": [],
   "source": []
  },
  {
   "cell_type": "code",
   "execution_count": null,
   "id": "79baba08",
   "metadata": {},
   "outputs": [],
   "source": []
  },
  {
   "cell_type": "code",
   "execution_count": null,
   "id": "ae75fe9a",
   "metadata": {},
   "outputs": [],
   "source": []
  }
 ],
 "metadata": {
  "kernelspec": {
   "display_name": "venv",
   "language": "python",
   "name": "python3"
  },
  "language_info": {
   "codemirror_mode": {
    "name": "ipython",
    "version": 3
   },
   "file_extension": ".py",
   "mimetype": "text/x-python",
   "name": "python",
   "nbconvert_exporter": "python",
   "pygments_lexer": "ipython3",
   "version": "3.11.12"
  }
 },
 "nbformat": 4,
 "nbformat_minor": 5
}
