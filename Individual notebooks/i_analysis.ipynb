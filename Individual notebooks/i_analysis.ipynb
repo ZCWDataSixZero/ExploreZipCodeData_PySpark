{
 "cells": [
  {
   "cell_type": "code",
   "execution_count": 7,
   "id": "8b307bee-7f0c-42e3-908c-5c8160e3ca39",
   "metadata": {
    "scrolled": true
   },
   "outputs": [
    {
     "name": "stdout",
     "output_type": "stream",
     "text": [
      "Collecting pyspark\n",
      "  Using cached pyspark-3.5.5.tar.gz (317.2 MB)\n",
      "  Preparing metadata (setup.py) ... \u001b[?25ldone\n",
      "\u001b[?25hCollecting py4j==0.10.9.7 (from pyspark)\n",
      "  Using cached py4j-0.10.9.7-py2.py3-none-any.whl.metadata (1.5 kB)\n",
      "Using cached py4j-0.10.9.7-py2.py3-none-any.whl (200 kB)\n",
      "Building wheels for collected packages: pyspark\n",
      "  Building wheel for pyspark (setup.py) ... \u001b[?25ldone\n",
      "\u001b[?25h  Created wheel for pyspark: filename=pyspark-3.5.5-py2.py3-none-any.whl size=317747862 sha256=bae7c5260971ac3547f722e356997c693b8e0d266c7c0d85324d4d302b5e1c12\n",
      "  Stored in directory: /Users/isiah/Library/Caches/pip/wheels/8f/cb/c0/cc57eb1bf0f9dc87cdaf2b0dbac49e58a210ff68d21d6fc709\n",
      "Successfully built pyspark\n",
      "Installing collected packages: py4j, pyspark\n",
      "Successfully installed py4j-0.10.9.7 pyspark-3.5.5\n",
      "Note: you may need to restart the kernel to use updated packages.\n"
     ]
    }
   ],
   "source": [
    "pip install pyspark"
   ]
  },
  {
   "cell_type": "code",
   "execution_count": 8,
   "id": "cefa293e-6c98-45fe-af85-434a1d8f6880",
   "metadata": {},
   "outputs": [],
   "source": [
    "import pyspark\n",
    "from pyspark.sql import SparkSession\n"
   ]
  },
  {
   "cell_type": "code",
   "execution_count": 12,
   "id": "b9302121-190f-475d-8ac2-49ffe67ef813",
   "metadata": {},
   "outputs": [],
   "source": [
    "spark = SparkSession.builder.appName('Read CSV File into DataFrame').getOrCreate()"
   ]
  },
  {
   "cell_type": "code",
   "execution_count": 21,
   "id": "a4dace58-5e44-4768-9e4d-1d1ec90e97f2",
   "metadata": {},
   "outputs": [],
   "source": [
    "df = spark.read.csv('/Users/isiah/Projects/P1/ExploreZipCodeData_PySpark/data/zip_code_demographics.csv', inferSchema=True, header=True)"
   ]
  },
  {
   "cell_type": "code",
   "execution_count": null,
   "id": "f4cb2458-6ec7-47c4-b8fe-bb3270750119",
   "metadata": {},
   "outputs": [],
   "source": []
  },
  {
   "cell_type": "code",
   "execution_count": 22,
   "id": "04c6677d-7800-4303-abc0-c209371aab26",
   "metadata": {},
   "outputs": [
    {
     "data": {
      "text/plain": [
       "Row(zip=1001, lat=42.06262, lng=-72.62521, city='Agawam', state_id='MA', state_name='Massachusetts', population=16088, density=550.1, county_name='Hampden', po_box=0, dist_highway=1.38703489958776, dist2_large_airport=106.145765467407, dist2_medium_airport=12.9462123500772, dist_to_shore=93.0492507357679, number_of_business=438, adjusted_gross_income=598807, total_income_amount=604769.0, number_of_returns=9320)"
      ]
     },
     "execution_count": 22,
     "metadata": {},
     "output_type": "execute_result"
    }
   ],
   "source": [
    "df.head()"
   ]
  },
  {
   "cell_type": "code",
   "execution_count": 17,
   "id": "413df144-749a-4444-ab7b-349f45d9c169",
   "metadata": {},
   "outputs": [
    {
     "data": {
      "text/html": [
       "<div>\n",
       "<style scoped>\n",
       "    .dataframe tbody tr th:only-of-type {\n",
       "        vertical-align: middle;\n",
       "    }\n",
       "\n",
       "    .dataframe tbody tr th {\n",
       "        vertical-align: top;\n",
       "    }\n",
       "\n",
       "    .dataframe thead th {\n",
       "        text-align: right;\n",
       "    }\n",
       "</style>\n",
       "<table border=\"1\" class=\"dataframe\">\n",
       "  <thead>\n",
       "    <tr style=\"text-align: right;\">\n",
       "      <th></th>\n",
       "      <th>zip</th>\n",
       "      <th>lat</th>\n",
       "      <th>lng</th>\n",
       "      <th>city</th>\n",
       "      <th>state_id</th>\n",
       "      <th>state_name</th>\n",
       "      <th>population</th>\n",
       "      <th>density</th>\n",
       "      <th>county_name</th>\n",
       "      <th>po_box</th>\n",
       "      <th>dist_highway</th>\n",
       "      <th>dist2_large_airport</th>\n",
       "      <th>dist2_medium_airport</th>\n",
       "      <th>dist_to_shore</th>\n",
       "      <th>number_of_business</th>\n",
       "      <th>adjusted_gross_income</th>\n",
       "      <th>total_income_amount</th>\n",
       "      <th>number_of_returns</th>\n",
       "    </tr>\n",
       "  </thead>\n",
       "  <tbody>\n",
       "    <tr>\n",
       "      <th>33699</th>\n",
       "      <td>28388</td>\n",
       "      <td>35.18</td>\n",
       "      <td>-79.40</td>\n",
       "      <td>Southern Pines</td>\n",
       "      <td>NC</td>\n",
       "      <td>North Carolina</td>\n",
       "      <td>15158</td>\n",
       "      <td>198.2</td>\n",
       "      <td>Moore</td>\n",
       "      <td>1</td>\n",
       "      <td>29.611385</td>\n",
       "      <td>95.336980</td>\n",
       "      <td>35.052347</td>\n",
       "      <td>172.197809</td>\n",
       "      <td>637.0</td>\n",
       "      <td>652358</td>\n",
       "      <td>6.615840e+05</td>\n",
       "      <td>7740</td>\n",
       "    </tr>\n",
       "    <tr>\n",
       "      <th>33700</th>\n",
       "      <td>28765</td>\n",
       "      <td>35.96</td>\n",
       "      <td>-82.12</td>\n",
       "      <td>Spruce Pine</td>\n",
       "      <td>NC</td>\n",
       "      <td>North Carolina</td>\n",
       "      <td>10318</td>\n",
       "      <td>55.5</td>\n",
       "      <td>Mitchell</td>\n",
       "      <td>1</td>\n",
       "      <td>34.660884</td>\n",
       "      <td>134.931257</td>\n",
       "      <td>62.822117</td>\n",
       "      <td>402.428512</td>\n",
       "      <td>280.0</td>\n",
       "      <td>196579</td>\n",
       "      <td>1.988100e+05</td>\n",
       "      <td>3910</td>\n",
       "    </tr>\n",
       "    <tr>\n",
       "      <th>33701</th>\n",
       "      <td>40027</td>\n",
       "      <td>38.28</td>\n",
       "      <td>-85.62</td>\n",
       "      <td>Louisville</td>\n",
       "      <td>KY</td>\n",
       "      <td>Kentucky</td>\n",
       "      <td>21622</td>\n",
       "      <td>883.0</td>\n",
       "      <td>Jefferson</td>\n",
       "      <td>1</td>\n",
       "      <td>1.148362</td>\n",
       "      <td>15.509671</td>\n",
       "      <td>6.927500</td>\n",
       "      <td>400.646608</td>\n",
       "      <td>1133.0</td>\n",
       "      <td>1333163</td>\n",
       "      <td>1.350029e+06</td>\n",
       "      <td>11760</td>\n",
       "    </tr>\n",
       "    <tr>\n",
       "      <th>33702</th>\n",
       "      <td>40292</td>\n",
       "      <td>38.22</td>\n",
       "      <td>-85.74</td>\n",
       "      <td>Louisville</td>\n",
       "      <td>KY</td>\n",
       "      <td>Kentucky</td>\n",
       "      <td>12029</td>\n",
       "      <td>1936.4</td>\n",
       "      <td>Jefferson</td>\n",
       "      <td>1</td>\n",
       "      <td>1.017999</td>\n",
       "      <td>5.082523</td>\n",
       "      <td>6.724578</td>\n",
       "      <td>403.729631</td>\n",
       "      <td>270.0</td>\n",
       "      <td>323448</td>\n",
       "      <td>3.268630e+05</td>\n",
       "      <td>6500</td>\n",
       "    </tr>\n",
       "    <tr>\n",
       "      <th>33703</th>\n",
       "      <td>44316</td>\n",
       "      <td>41.08</td>\n",
       "      <td>-81.52</td>\n",
       "      <td>Akron</td>\n",
       "      <td>OH</td>\n",
       "      <td>Ohio</td>\n",
       "      <td>1723</td>\n",
       "      <td>1440.6</td>\n",
       "      <td>Summit</td>\n",
       "      <td>1</td>\n",
       "      <td>1.381451</td>\n",
       "      <td>46.050739</td>\n",
       "      <td>6.492610</td>\n",
       "      <td>50.216506</td>\n",
       "      <td>393.0</td>\n",
       "      <td>27191</td>\n",
       "      <td>2.777000e+04</td>\n",
       "      <td>380</td>\n",
       "    </tr>\n",
       "  </tbody>\n",
       "</table>\n",
       "</div>"
      ],
      "text/plain": [
       "         zip    lat    lng            city state_id      state_name  \\\n",
       "33699  28388  35.18 -79.40  Southern Pines       NC  North Carolina   \n",
       "33700  28765  35.96 -82.12     Spruce Pine       NC  North Carolina   \n",
       "33701  40027  38.28 -85.62      Louisville       KY        Kentucky   \n",
       "33702  40292  38.22 -85.74      Louisville       KY        Kentucky   \n",
       "33703  44316  41.08 -81.52           Akron       OH            Ohio   \n",
       "\n",
       "       population  density county_name  po_box  dist_highway  \\\n",
       "33699       15158    198.2       Moore       1     29.611385   \n",
       "33700       10318     55.5    Mitchell       1     34.660884   \n",
       "33701       21622    883.0   Jefferson       1      1.148362   \n",
       "33702       12029   1936.4   Jefferson       1      1.017999   \n",
       "33703        1723   1440.6      Summit       1      1.381451   \n",
       "\n",
       "       dist2_large_airport  dist2_medium_airport  dist_to_shore  \\\n",
       "33699            95.336980             35.052347     172.197809   \n",
       "33700           134.931257             62.822117     402.428512   \n",
       "33701            15.509671              6.927500     400.646608   \n",
       "33702             5.082523              6.724578     403.729631   \n",
       "33703            46.050739              6.492610      50.216506   \n",
       "\n",
       "       number_of_business  adjusted_gross_income  total_income_amount  \\\n",
       "33699               637.0                 652358         6.615840e+05   \n",
       "33700               280.0                 196579         1.988100e+05   \n",
       "33701              1133.0                1333163         1.350029e+06   \n",
       "33702               270.0                 323448         3.268630e+05   \n",
       "33703               393.0                  27191         2.777000e+04   \n",
       "\n",
       "       number_of_returns  \n",
       "33699               7740  \n",
       "33700               3910  \n",
       "33701              11760  \n",
       "33702               6500  \n",
       "33703                380  "
      ]
     },
     "execution_count": 17,
     "metadata": {},
     "output_type": "execute_result"
    }
   ],
   "source": [
    "df.tail()"
   ]
  },
  {
   "cell_type": "code",
   "execution_count": 23,
   "id": "ce008e0e-4ee7-4271-bd1c-0c8b9e6bb3a8",
   "metadata": {},
   "outputs": [
    {
     "data": {
      "text/plain": [
       "DataFrame[summary: string, zip: string, lat: string, lng: string, city: string, state_id: string, state_name: string, population: string, density: string, county_name: string, po_box: string, dist_highway: string, dist2_large_airport: string, dist2_medium_airport: string, dist_to_shore: string, number_of_business: string, adjusted_gross_income: string, total_income_amount: string, number_of_returns: string]"
      ]
     },
     "execution_count": 23,
     "metadata": {},
     "output_type": "execute_result"
    }
   ],
   "source": [
    "df.describe()"
   ]
  },
  {
   "cell_type": "code",
   "execution_count": null,
   "id": "5c0f8354-8e47-4f48-a450-413e4756d4a1",
   "metadata": {},
   "outputs": [],
   "source": []
  },
  {
   "cell_type": "code",
   "execution_count": null,
   "id": "c30e89dc-c8e1-4095-9f48-57f80231deb8",
   "metadata": {},
   "outputs": [],
   "source": []
  }
 ],
 "metadata": {
  "kernelspec": {
   "display_name": "Python 3 (ipykernel)",
   "language": "python",
   "name": "python3"
  },
  "language_info": {
   "codemirror_mode": {
    "name": "ipython",
    "version": 3
   },
   "file_extension": ".py",
   "mimetype": "text/x-python",
   "name": "python",
   "nbconvert_exporter": "python",
   "pygments_lexer": "ipython3",
   "version": "3.12.5"
  }
 },
 "nbformat": 4,
 "nbformat_minor": 5
}
