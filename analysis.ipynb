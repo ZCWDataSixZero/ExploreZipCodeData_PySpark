{
 "cells": [
  {
   "cell_type": "code",
   "execution_count": 1,
   "id": "3bda33c3",
   "metadata": {},
   "outputs": [
    {
     "ename": "ModuleNotFoundError",
     "evalue": "No module named 'kagglehub'",
     "output_type": "error",
     "traceback": [
      "\u001b[0;31m---------------------------------------------------------------------------\u001b[0m",
      "\u001b[0;31mModuleNotFoundError\u001b[0m                       Traceback (most recent call last)",
      "Cell \u001b[0;32mIn[1], line 1\u001b[0m\n\u001b[0;32m----> 1\u001b[0m \u001b[38;5;28;01mimport\u001b[39;00m \u001b[38;5;21;01mkagglehub\u001b[39;00m \u001b[38;5;66;03m# might need to pip install kagglehub\u001b[39;00m\n\u001b[1;32m      2\u001b[0m \u001b[38;5;28;01mimport\u001b[39;00m \u001b[38;5;21;01mshutil\u001b[39;00m\n\u001b[1;32m      3\u001b[0m \u001b[38;5;28;01mimport\u001b[39;00m \u001b[38;5;21;01mos\u001b[39;00m\n",
      "\u001b[0;31mModuleNotFoundError\u001b[0m: No module named 'kagglehub'"
     ]
    }
   ],
   "source": [
    "import kagglehub # might need to pip install kagglehub\n",
    "import shutil\n",
    "import os\n",
    "import pandas as pd\n",
    "import matplotlib.pyplot as plt\n",
    "import seaborn as sns\n",
    "from pyspark.sql.functions import col, avg, max, min, countDistinct, sum, round"
   ]
  },
  {
   "cell_type": "markdown",
   "id": "529b0e02",
   "metadata": {},
   "source": [
    "# don't run this part still working on it"
   ]
  },
  {
   "cell_type": "code",
   "execution_count": null,
   "id": "76c4cfa3",
   "metadata": {},
   "outputs": [
    {
     "name": "stdout",
     "output_type": "stream",
     "text": [
      "Dataset downloaded to: /Users/kunle/.cache/kagglehub/datasets/erdi28/zip-codes-demographics/versions/3\n"
     ]
    }
   ],
   "source": [
    "# Don't \n",
    "\n",
    "# Download the dataset to the current directory\n",
    "try:\n",
    "    # Replace with the correct dataset identifier\n",
    "    path = kagglehub.dataset_download(\"erdi28/zip-codes-demographics\")\n",
    "    print(f\"Dataset downloaded to: {path}\")\n",
    "\n",
    "    # Save the dataset as a CSV file in the current directory\n",
    "    for file_name in os.listdir(path):\n",
    "        if file_name.endswith(\".csv\"):\n",
    "            shutil.move(os.path.join(path, file_name), os.getcwd())\n",
    "            print(f\"CSV file saved to: {os.path.join(os.getcwd(), file_name)}\")\n",
    "except AttributeError as e:\n",
    "    print(\"Error: The kagglehub module does not support the method used.\")\n",
    "    print(\"Please check the documentation or update the library.\")\n",
    "except Exception as e:\n",
    "    print(f\"An error occurred: {e}\")"
   ]
  },
  {
   "cell_type": "code",
   "execution_count": null,
   "id": "b10b5d0b",
   "metadata": {},
   "outputs": [],
   "source": [
    "## Set up PySpark environment\n",
    "from pyspark.sql import SparkSession"
   ]
  },
  {
   "cell_type": "code",
   "execution_count": null,
   "id": "41756b34",
   "metadata": {},
   "outputs": [],
   "source": [
    "## Initialize the SparkSession\n",
    "# appName is the name of the application\n",
    "# getOrCreate() creates a new session or retrieves an existing one\n",
    "spark = SparkSession.builder \\\n",
    "    .appName(\"ZipCode PySpark Learning\") \\\n",
    "        .getOrCreate()\n",
    "\n",
    "## Verify that SparkSession is created\n",
    "spark"
   ]
  },
  {
   "cell_type": "markdown",
   "id": "9e998cae",
   "metadata": {},
   "source": [
    "## Pop by State -> in state pop by zip"
   ]
  },
  {
   "cell_type": "code",
   "execution_count": null,
   "id": "ce4fbc6b",
   "metadata": {},
   "outputs": [],
   "source": []
  },
  {
   "cell_type": "code",
   "execution_count": null,
   "id": "06d6a03a",
   "metadata": {},
   "outputs": [],
   "source": []
  },
  {
   "cell_type": "code",
   "execution_count": null,
   "id": "09b92168",
   "metadata": {},
   "outputs": [],
   "source": []
  },
  {
   "cell_type": "markdown",
   "id": "c2e8ede4",
   "metadata": {},
   "source": [
    "## AGI by buisness by zip, AGI by total income by zip "
   ]
  },
  {
   "cell_type": "code",
   "execution_count": null,
   "id": "b3cb95ce",
   "metadata": {},
   "outputs": [],
   "source": []
  },
  {
   "cell_type": "code",
   "execution_count": null,
   "id": "a7c8e976",
   "metadata": {},
   "outputs": [],
   "source": []
  },
  {
   "cell_type": "code",
   "execution_count": null,
   "id": "491ee755",
   "metadata": {},
   "outputs": [],
   "source": []
  },
  {
   "cell_type": "markdown",
   "id": "7bcee068",
   "metadata": {},
   "source": [
    "## AGI by shore"
   ]
  },
  {
   "cell_type": "code",
   "execution_count": null,
   "id": "7ab710d8",
   "metadata": {},
   "outputs": [],
   "source": []
  },
  {
   "cell_type": "code",
   "execution_count": null,
   "id": "5e7c9df7",
   "metadata": {},
   "outputs": [],
   "source": []
  },
  {
   "cell_type": "code",
   "execution_count": null,
   "id": "72fbcc2a",
   "metadata": {},
   "outputs": [],
   "source": []
  },
  {
   "cell_type": "markdown",
   "id": "3f36e5af",
   "metadata": {},
   "source": [
    "## airport shore nuber of business zipcode"
   ]
  },
  {
   "cell_type": "code",
   "execution_count": null,
   "id": "e27779ac",
   "metadata": {},
   "outputs": [],
   "source": []
  },
  {
   "cell_type": "code",
   "execution_count": null,
   "id": "7478c281",
   "metadata": {},
   "outputs": [],
   "source": []
  },
  {
   "cell_type": "markdown",
   "id": "3eedb142",
   "metadata": {},
   "source": []
  },
  {
   "cell_type": "markdown",
   "id": "1132d252",
   "metadata": {},
   "source": [
    "## number of returns by county"
   ]
  },
  {
   "cell_type": "code",
   "execution_count": null,
   "id": "166c4baf",
   "metadata": {},
   "outputs": [],
   "source": []
  },
  {
   "cell_type": "code",
   "execution_count": null,
   "id": "5a418de3",
   "metadata": {},
   "outputs": [],
   "source": []
  },
  {
   "cell_type": "code",
   "execution_count": null,
   "id": "019877f3",
   "metadata": {},
   "outputs": [],
   "source": []
  },
  {
   "cell_type": "markdown",
   "id": "44de0fbf",
   "metadata": {},
   "source": [
    "## Distance highway/airport Pop by zipcode"
   ]
  },
  {
   "cell_type": "code",
   "execution_count": null,
   "id": "14a7f514",
   "metadata": {},
   "outputs": [],
   "source": []
  },
  {
   "cell_type": "code",
   "execution_count": null,
   "id": "79baba08",
   "metadata": {},
   "outputs": [],
   "source": []
  },
  {
   "cell_type": "code",
   "execution_count": null,
   "id": "ae75fe9a",
   "metadata": {},
   "outputs": [],
   "source": []
  }
 ],
 "metadata": {
  "kernelspec": {
   "display_name": "Python 3 (ipykernel)",
   "language": "python",
   "name": "python3"
  },
  "language_info": {
   "codemirror_mode": {
    "name": "ipython",
    "version": 3
   },
   "file_extension": ".py",
   "mimetype": "text/x-python",
   "name": "python",
   "nbconvert_exporter": "python",
   "pygments_lexer": "ipython3",
   "version": "3.12.5"
  }
 },
 "nbformat": 4,
 "nbformat_minor": 5
}
