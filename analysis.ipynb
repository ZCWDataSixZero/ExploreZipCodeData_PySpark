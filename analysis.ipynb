{
 "cells": [
  {
   "cell_type": "code",
   "execution_count": 2,
   "id": "3bda33c3",
   "metadata": {},
   "outputs": [
    {
     "name": "stderr",
     "output_type": "stream",
     "text": [
      "/opt/homebrew/lib/python3.11/site-packages/tqdm/auto.py:21: TqdmWarning: IProgress not found. Please update jupyter and ipywidgets. See https://ipywidgets.readthedocs.io/en/stable/user_install.html\n",
      "  from .autonotebook import tqdm as notebook_tqdm\n"
     ]
    }
   ],
   "source": [
    "import kagglehub # might need to pip install kagglehub\n",
    "import shutil\n",
    "import os"
   ]
  },
  {
   "cell_type": "code",
   "execution_count": 5,
   "id": "76c4cfa3",
   "metadata": {},
   "outputs": [
    {
     "name": "stdout",
     "output_type": "stream",
     "text": [
      "Downloading from https://www.kaggle.com/api/v1/datasets/download/erdi28/zip-codes-demographics?dataset_version_number=3...\n"
     ]
    },
    {
     "name": "stderr",
     "output_type": "stream",
     "text": [
      "100%|██████████| 2.28M/2.28M [00:00<00:00, 9.47MB/s]"
     ]
    },
    {
     "name": "stdout",
     "output_type": "stream",
     "text": [
      "Extracting files...\n",
      "Dataset downloaded to: /Users/kunle/.cache/kagglehub/datasets/erdi28/zip-codes-demographics/versions/3\n",
      "CSV file saved to: /Users/kunle/Python Projects/ExploreZipCodeData_PySpark/zip_code_demographics.csv\n",
      "Dataset downloaded to: /Users/kunle/.cache/kagglehub/datasets/erdi28/zip-codes-demographics/versions/3\n",
      "CSV file saved to: /Users/kunle/Python Projects/ExploreZipCodeData_PySpark/zip_code_demographics.csv\n"
     ]
    },
    {
     "name": "stderr",
     "output_type": "stream",
     "text": [
      "\n"
     ]
    }
   ],
   "source": [
    "\n",
    "# Download the dataset to the current directory\n",
    "try:\n",
    "    # Replace with the correct dataset identifier\n",
    "    path = kagglehub.dataset_download(\"erdi28/zip-codes-demographics\")\n",
    "    print(f\"Dataset downloaded to: {path}\")\n",
    "\n",
    "    # Save the dataset as a CSV file in the current directory\n",
    "    for file_name in os.listdir(path):\n",
    "        if file_name.endswith(\".csv\"):\n",
    "            shutil.move(os.path.join(path, file_name), os.getcwd())\n",
    "            print(f\"CSV file saved to: {os.path.join(os.getcwd(), file_name)}\")\n",
    "except AttributeError as e:\n",
    "    print(\"Error: The kagglehub module does not support the method used.\")\n",
    "    print(\"Please check the documentation or update the library.\")\n",
    "except Exception as e:\n",
    "    print(f\"An error occurred: {e}\")"
   ]
  },
  {
   "cell_type": "code",
   "execution_count": null,
   "id": "3737d7e2",
   "metadata": {},
   "outputs": [],
   "source": []
  }
 ],
 "metadata": {
  "kernelspec": {
   "display_name": "Python 3",
   "language": "python",
   "name": "python3"
  },
  "language_info": {
   "codemirror_mode": {
    "name": "ipython",
    "version": 3
   },
   "file_extension": ".py",
   "mimetype": "text/x-python",
   "name": "python",
   "nbconvert_exporter": "python",
   "pygments_lexer": "ipython3",
   "version": "3.11.11"
  }
 },
 "nbformat": 4,
 "nbformat_minor": 5
}
