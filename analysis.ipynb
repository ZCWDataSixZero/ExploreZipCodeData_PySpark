{
 "cells": [
  {
   "cell_type": "code",
   "execution_count": 2,
   "id": "3bda33c3",
   "metadata": {},
   "outputs": [
    {
     "name": "stderr",
     "output_type": "stream",
     "text": [
      "/opt/homebrew/lib/python3.11/site-packages/tqdm/auto.py:21: TqdmWarning: IProgress not found. Please update jupyter and ipywidgets. See https://ipywidgets.readthedocs.io/en/stable/user_install.html\n",
      "  from .autonotebook import tqdm as notebook_tqdm\n"
     ]
    }
   ],
   "source": [
    "import kagglehub # might need to pip install kagglehub\n",
    "import shutil\n",
    "import os\n",
    "import pandas as pd\n",
    "import matplotlib.pyplot as plt\n",
    "import seaborn as sns\n",
    "from pyspark.sql.functions import col, avg, max, min, countDistinct, sum, round\n",
    "import geopandas as gpd\n",
    "import plotly.express as px\n"
   ]
  },
  {
   "cell_type": "markdown",
   "id": "529b0e02",
   "metadata": {},
   "source": [
    "# don't run this part still working on it"
   ]
  },
  {
   "cell_type": "code",
   "execution_count": 3,
   "id": "76c4cfa3",
   "metadata": {},
   "outputs": [
    {
     "name": "stdout",
     "output_type": "stream",
     "text": [
      "Dataset downloaded to: /Users/kunle/.cache/kagglehub/datasets/erdi28/zip-codes-demographics/versions/3\n"
     ]
    }
   ],
   "source": [
    "# Don't \n",
    "\n",
    "# Download the dataset to the current directory\n",
    "try:\n",
    "    # Replace with the correct dataset identifier\n",
    "    path = kagglehub.dataset_download(\"erdi28/zip-codes-demographics\")\n",
    "    print(f\"Dataset downloaded to: {path}\")\n",
    "\n",
    "    # Save the dataset as a CSV file in the current directory\n",
    "    for file_name in os.listdir(path):\n",
    "        if file_name.endswith(\".csv\"):\n",
    "            shutil.move(os.path.join(path, file_name), os.getcwd())\n",
    "            print(f\"CSV file saved to: {os.path.join(os.getcwd(), file_name)}\")\n",
    "except AttributeError as e:\n",
    "    print(\"Error: The kagglehub module does not support the method used.\")\n",
    "    print(\"Please check the documentation or update the library.\")\n",
    "except Exception as e:\n",
    "    print(f\"An error occurred: {e}\")"
   ]
  },
  {
   "cell_type": "code",
   "execution_count": 4,
   "id": "b10b5d0b",
   "metadata": {},
   "outputs": [],
   "source": [
    "## Set up PySpark environment\n",
    "from pyspark.sql import SparkSession"
   ]
  },
  {
   "cell_type": "code",
   "execution_count": 5,
   "id": "41756b34",
   "metadata": {},
   "outputs": [
    {
     "name": "stderr",
     "output_type": "stream",
     "text": [
      "25/04/19 18:28:39 WARN Utils: Your hostname, Zipcoders-MacBook-Pro-5.local resolves to a loopback address: 127.0.0.1; using 192.168.3.155 instead (on interface en0)\n",
      "25/04/19 18:28:39 WARN Utils: Set SPARK_LOCAL_IP if you need to bind to another address\n",
      "Setting default log level to \"WARN\".\n",
      "To adjust logging level use sc.setLogLevel(newLevel). For SparkR, use setLogLevel(newLevel).\n",
      "25/04/19 18:28:39 WARN NativeCodeLoader: Unable to load native-hadoop library for your platform... using builtin-java classes where applicable\n",
      "25/04/19 18:28:40 WARN Utils: Service 'SparkUI' could not bind on port 4040. Attempting port 4041.\n"
     ]
    },
    {
     "data": {
      "text/html": [
       "\n",
       "            <div>\n",
       "                <p><b>SparkSession - in-memory</b></p>\n",
       "                \n",
       "        <div>\n",
       "            <p><b>SparkContext</b></p>\n",
       "\n",
       "            <p><a href=\"http://192.168.3.155:4041\">Spark UI</a></p>\n",
       "\n",
       "            <dl>\n",
       "              <dt>Version</dt>\n",
       "                <dd><code>v3.5.5</code></dd>\n",
       "              <dt>Master</dt>\n",
       "                <dd><code>local[*]</code></dd>\n",
       "              <dt>AppName</dt>\n",
       "                <dd><code>ZipCode PySpark Learning</code></dd>\n",
       "            </dl>\n",
       "        </div>\n",
       "        \n",
       "            </div>\n",
       "        "
      ],
      "text/plain": [
       "<pyspark.sql.session.SparkSession at 0x117078110>"
      ]
     },
     "execution_count": 5,
     "metadata": {},
     "output_type": "execute_result"
    }
   ],
   "source": [
    "## Initialize the SparkSession\n",
    "# appName is the name of the application\n",
    "# getOrCreate() creates a new session or retrieves an existing one\n",
    "spark = SparkSession.builder \\\n",
    "    .appName(\"ZipCode PySpark Learning\") \\\n",
    "        .getOrCreate()\n",
    "\n",
    "## Verify that SparkSession is created\n",
    "spark"
   ]
  },
  {
   "cell_type": "code",
   "execution_count": 6,
   "id": "2ad952eb",
   "metadata": {},
   "outputs": [
    {
     "name": "stdout",
     "output_type": "stream",
     "text": [
      "Data loaded successfully\n"
     ]
    }
   ],
   "source": [
    "try:\n",
    "    zip_df = spark.read.csv ('./data/zip_code_demographics.csv', header=True, inferSchema=True)\n",
    "    print('Data loaded successfully')\n",
    "except Exception as e:\n",
    "    print(f'Error loading data: {e}')"
   ]
  },
  {
   "cell_type": "code",
   "execution_count": 7,
   "id": "35a4b00d",
   "metadata": {},
   "outputs": [
    {
     "name": "stdout",
     "output_type": "stream",
     "text": [
      "+----+--------+---------+------------+--------+-------------+----------+-------+-----------+------+------------------+-------------------+--------------------+----------------+------------------+---------------------+-------------------+-----------------+\n",
      "| zip|     lat|      lng|        city|state_id|   state_name|population|density|county_name|po_box|      dist_highway|dist2_large_airport|dist2_medium_airport|   dist_to_shore|number_of_business|adjusted_gross_income|total_income_amount|number_of_returns|\n",
      "+----+--------+---------+------------+--------+-------------+----------+-------+-----------+------+------------------+-------------------+--------------------+----------------+------------------+---------------------+-------------------+-----------------+\n",
      "|1001|42.06262|-72.62521|      Agawam|      MA|Massachusetts|     16088|  550.1|    Hampden|     0|  1.38703489958776|   106.145765467407|    12.9462123500772|93.0492507357679|               438|               598807|           604769.0|             9320|\n",
      "|1002|42.37633|-72.46462|     Amherst|      MA|Massachusetts|     27323|  198.1|  Hampshire|     0|  14.4381771787811|   112.264368137872|    21.0800788136799|133.370143966814|               571|               989558|          1005796.0|             9880|\n",
      "|1005|42.42117|-72.10655|       Barre|      MA|Massachusetts|      4947|   44.2|  Worcester|     0|  16.7883389378764|    90.664964214599|    25.5477180736873|97.6398810953817|                97|               164207|           166054.0|             2490|\n",
      "|1007|42.28163|-72.40009| Belchertown|      MA|Massachusetts|     15304|  107.7|  Hampshire|     0|   13.663839468365|   101.552921217705|     14.762395370048|114.406033754504|               217|               647074|           654739.0|             7970|\n",
      "|1008|42.18234|-72.95819|   Blandford|      MA|Massachusetts|      1171|    7.4|    Hampden|     0|  2.59365546872497|    136.54879743219|    20.1779499690055|107.466779445914|                18|                47826|         48241.0001|              660|\n",
      "|1010|42.12904|-72.20597|   Brimfield|      MA|Massachusetts|      3703|   40.6|    Hampden|     0|  4.73727136188264|   78.6454995903817|    28.0492624787917|94.9280235181023|                73|               155666|           157677.0|             1980|\n",
      "|1011|42.30233|-72.96448|     Chester|      MA|Massachusetts|      1332|   15.7|    Hampden|     0|  8.05869305726245|   142.414627001912|    26.0419084149722|128.563170400209|                13|                38223|            38553.0|              630|\n",
      "|1012|42.38495|-72.84675|Chesterfield|      MA|Massachusetts|       503|   16.1|  Hampshire|     0|  18.3310957824545|   138.381683922713|    27.4666636064825|137.693284947624|                10|                24826|            25102.0|              410|\n",
      "|1013|42.16059|-72.60788|    Chicopee|      MA|Massachusetts|     22709| 1549.1|    Hampden|     0|0.0622862708325111|   109.114246004907|    7.07589281728133|104.576258028243|               317|               516431|           520174.0|            11270|\n",
      "|1020|42.17618|-72.56538|    Chicopee|      MA|Massachusetts|     30704|  951.4|    Hampden|     0| 0.925139778004274|   106.769094716986|    3.20553313229515|105.789420653597|               550|               828125|           834614.0|            15760|\n",
      "+----+--------+---------+------------+--------+-------------+----------+-------+-----------+------+------------------+-------------------+--------------------+----------------+------------------+---------------------+-------------------+-----------------+\n",
      "only showing top 10 rows\n",
      "\n"
     ]
    }
   ],
   "source": [
    "zip_df.show(10)"
   ]
  },
  {
   "cell_type": "code",
   "execution_count": 8,
   "id": "9e929350",
   "metadata": {},
   "outputs": [
    {
     "name": "stdout",
     "output_type": "stream",
     "text": [
      "root\n",
      " |-- zip: integer (nullable = true)\n",
      " |-- lat: double (nullable = true)\n",
      " |-- lng: double (nullable = true)\n",
      " |-- city: string (nullable = true)\n",
      " |-- state_id: string (nullable = true)\n",
      " |-- state_name: string (nullable = true)\n",
      " |-- population: integer (nullable = true)\n",
      " |-- density: double (nullable = true)\n",
      " |-- county_name: string (nullable = true)\n",
      " |-- po_box: integer (nullable = true)\n",
      " |-- dist_highway: double (nullable = true)\n",
      " |-- dist2_large_airport: double (nullable = true)\n",
      " |-- dist2_medium_airport: double (nullable = true)\n",
      " |-- dist_to_shore: double (nullable = true)\n",
      " |-- number_of_business: integer (nullable = true)\n",
      " |-- adjusted_gross_income: integer (nullable = true)\n",
      " |-- total_income_amount: double (nullable = true)\n",
      " |-- number_of_returns: integer (nullable = true)\n",
      "\n"
     ]
    }
   ],
   "source": [
    "zip_df.printSchema()"
   ]
  },
  {
   "cell_type": "markdown",
   "id": "9e998cae",
   "metadata": {},
   "source": [
    "## Pop by State -> in state pop by zip"
   ]
  },
  {
   "cell_type": "code",
   "execution_count": null,
   "id": "ce4fbc6b",
   "metadata": {},
   "outputs": [
    {
     "name": "stdout",
     "output_type": "stream",
     "text": [
      "+--------+--------------------+----------------+\n",
      "|state_id|          state_name|total_population|\n",
      "+--------+--------------------+----------------+\n",
      "|      MT|             Montana|         1511394|\n",
      "|      NC|      North Carolina|        12419438|\n",
      "|      MD|            Maryland|         7224056|\n",
      "|      CO|            Colorado|         6617159|\n",
      "|      CT|         Connecticut|         3819343|\n",
      "|      IL|            Illinois|        13819331|\n",
      "|      WY|             Wyoming|         1182453|\n",
      "|      NJ|          New Jersey|         9823423|\n",
      "|      DE|            Delaware|         1372445|\n",
      "|      DC|District of Columbia|         1207283|\n",
      "+--------+--------------------+----------------+\n",
      "only showing top 10 rows\n",
      "\n"
     ]
    }
   ],
   "source": [
    "# filtering the data needed for analysis\n",
    "zip_pop_df = zip_df.select('state_id','state_name','population').groupBy('state_id','state_name').agg(sum('population').alias(\"total_population\"))\n",
    "zip_pop_df.show(10)"
   ]
  },
  {
   "cell_type": "code",
   "execution_count": 10,
   "id": "06d6a03a",
   "metadata": {},
   "outputs": [
    {
     "name": "stdout",
     "output_type": "stream",
     "text": [
      "+--------+------------+----------------+\n",
      "|state_id|  state_name|total_population|\n",
      "+--------+------------+----------------+\n",
      "|      CA|  California|        44183935|\n",
      "|      TX|       Texas|        33411444|\n",
      "|      NY|    New York|        23903874|\n",
      "|      FL|     Florida|        23007226|\n",
      "|      PA|Pennsylvania|        16557706|\n",
      "+--------+------------+----------------+\n",
      "only showing top 5 rows\n",
      "\n"
     ]
    }
   ],
   "source": [
    "zip_pop_df.orderBy(col(\"total_population\").desc()).show(5)"
   ]
  },
  {
   "cell_type": "markdown",
   "id": "782ea52a",
   "metadata": {},
   "source": [
    "Making US Heat map"
   ]
  },
  {
   "cell_type": "code",
   "execution_count": null,
   "id": "09b92168",
   "metadata": {},
   "outputs": [],
   "source": [
    "# convert to pandas for plotting\n",
    "zip_pop_pd = zip_pop_df.toPandas()"
   ]
  },
  {
   "cell_type": "code",
   "execution_count": null,
   "id": "1e0ea975",
   "metadata": {},
   "outputs": [
    {
     "name": "stdout",
     "output_type": "stream",
     "text": [
      "Index(['STATEFP', 'STATENS', 'AFFGEOID', 'GEOID', 'STUSPS', 'NAME', 'LSAD',\n",
      "       'ALAND', 'AWATER', 'geometry'],\n",
      "      dtype='object')\n"
     ]
    }
   ],
   "source": [
    "# getting shape data, downloaded from https://www.census.gov/geographies/mapping-files/time-series/geo/carto-boundary-file.html\n",
    "shape_path = './data/cb_2018_us_state_500k/cb_2018_us_state_500k.shp'\n",
    "shape = gpd.read_file(shape_path)\n",
    "print(shape.columns)"
   ]
  },
  {
   "cell_type": "code",
   "execution_count": null,
   "id": "472cf0a3",
   "metadata": {},
   "outputs": [],
   "source": [
    "# left join the dataframes\n",
    "shape_for_graph = pd.merge(\n",
    "    left = shape,\n",
    "    right = zip_pop_pd,\n",
    "    left_on = 'NAME',\n",
    "    right_on ='state_name',\n",
    "    how = 'left'\n",
    ")"
   ]
  },
  {
   "cell_type": "code",
   "execution_count": 29,
   "id": "4b71313b",
   "metadata": {},
   "outputs": [
    {
     "data": {
      "text/plain": [
       "Index(['STATEFP', 'STATENS', 'AFFGEOID', 'GEOID', 'STUSPS', 'NAME', 'LSAD',\n",
       "       'ALAND', 'AWATER', 'geometry', 'state_id', 'state_name',\n",
       "       'total_population'],\n",
       "      dtype='object')"
      ]
     },
     "execution_count": 29,
     "metadata": {},
     "output_type": "execute_result"
    }
   ],
   "source": [
    "# making sure the merge worked\n",
    "shape_for_graph.columns"
   ]
  },
  {
   "cell_type": "code",
   "execution_count": 30,
   "id": "3fa9038b",
   "metadata": {},
   "outputs": [],
   "source": [
    "# getiting rid of the null values\n",
    "shape_for_graph = shape_for_graph.dropna()\n"
   ]
  },
  {
   "cell_type": "code",
   "execution_count": null,
   "id": "6ac5a929",
   "metadata": {},
   "outputs": [],
   "source": [
    "# elminating those states makes the graph look better\n",
    "shape_for_graph = shape_for_graph[~shape_for_graph['NAME'].isin(['Alaska', 'Hawaii','Puerto Rico'])]"
   ]
  },
  {
   "cell_type": "code",
   "execution_count": null,
   "id": "6da23f9c",
   "metadata": {},
   "outputs": [
    {
     "data": {
      "image/png": "[encoded data removed]",
      "text/plain": [
       "<Figure size 1000x500 with 2 Axes>"
      ]
     },
     "metadata": {},
     "output_type": "display_data"
    }
   ],
   "source": [
    "# Plotting the data\n",
    "ax = shape_for_graph.boundary.plot(edgecolor ='black', linewidth=0.2, figsize=(10,5))\n",
    "shape_for_graph.plot(ax=ax, column=\"total_population\", legend=True, cmap='YlOrRd')\n",
    "plt.show()"
   ]
  },
  {
   "cell_type": "markdown",
   "id": "2c73f623",
   "metadata": {},
   "source": [
    "## Population by Zip Code of most Populated State, California"
   ]
  },
  {
   "cell_type": "code",
   "execution_count": 23,
   "id": "decb8179",
   "metadata": {},
   "outputs": [
    {
     "name": "stdout",
     "output_type": "stream",
     "text": [
      "+-----+--------+----------+----------+\n",
      "|  zip|state_id|state_name|population|\n",
      "+-----+--------+----------+----------+\n",
      "|90011|      CA|California|    109511|\n",
      "|90650|      CA|California|    103427|\n",
      "|91331|      CA|California|    102553|\n",
      "|94565|      CA|California|    100700|\n",
      "|90044|      CA|California|    100225|\n",
      "|92336|      CA|California|     98896|\n",
      "|92335|      CA|California|     97358|\n",
      "|90805|      CA|California|     96840|\n",
      "|90250|      CA|California|     96730|\n",
      "|90201|      CA|California|     96605|\n",
      "+-----+--------+----------+----------+\n",
      "only showing top 10 rows\n",
      "\n"
     ]
    }
   ],
   "source": [
    "# Collecting data for California\n",
    "ca_zip_df = zip_df.select('zip','state_id', 'state_name', 'population') \\\n",
    "    .where(zip_df.state_id == 'CA') \\\n",
    "        .orderBy(col('population').desc())\n",
    "\n",
    "ca_zip_df.show(10)"
   ]
  },
  {
   "cell_type": "markdown",
   "id": "aa24eef2",
   "metadata": {},
   "source": [
    "Exploring the data"
   ]
  },
  {
   "cell_type": "code",
   "execution_count": 24,
   "id": "ce7a3b10",
   "metadata": {},
   "outputs": [
    {
     "data": {
      "text/plain": [
       "(1802, 4)"
      ]
     },
     "execution_count": 24,
     "metadata": {},
     "output_type": "execute_result"
    }
   ],
   "source": [
    "# using pandas to check the shape of the dataframe\n",
    "# this is a workaround to check the shape of the dataframe\n",
    "ca_zip_df.toPandas().shape\n"
   ]
  },
  {
   "cell_type": "code",
   "execution_count": 25,
   "id": "6b039b0c",
   "metadata": {},
   "outputs": [
    {
     "data": {
      "text/plain": [
       "zip           1802\n",
       "state_id         1\n",
       "state_name       1\n",
       "population    1447\n",
       "dtype: int64"
      ]
     },
     "execution_count": 25,
     "metadata": {},
     "output_type": "execute_result"
    }
   ],
   "source": [
    "# wanted to check if I had any duplicates or need to aggregate zip codes\n",
    "ca_zip_df.toPandas().nunique()"
   ]
  },
  {
   "cell_type": "code",
   "execution_count": 26,
   "id": "a053b4b8",
   "metadata": {},
   "outputs": [
    {
     "data": {
      "text/html": [
       "<div>\n",
       "<style scoped>\n",
       "    .dataframe tbody tr th:only-of-type {\n",
       "        vertical-align: middle;\n",
       "    }\n",
       "\n",
       "    .dataframe tbody tr th {\n",
       "        vertical-align: top;\n",
       "    }\n",
       "\n",
       "    .dataframe thead th {\n",
       "        text-align: right;\n",
       "    }\n",
       "</style>\n",
       "<table border=\"1\" class=\"dataframe\">\n",
       "  <thead>\n",
       "    <tr style=\"text-align: right;\">\n",
       "      <th></th>\n",
       "      <th>zip</th>\n",
       "      <th>state_id</th>\n",
       "      <th>state_name</th>\n",
       "      <th>population</th>\n",
       "    </tr>\n",
       "  </thead>\n",
       "  <tbody>\n",
       "    <tr>\n",
       "      <th>0</th>\n",
       "      <td>90011</td>\n",
       "      <td>CA</td>\n",
       "      <td>California</td>\n",
       "      <td>109511</td>\n",
       "    </tr>\n",
       "    <tr>\n",
       "      <th>1</th>\n",
       "      <td>90650</td>\n",
       "      <td>CA</td>\n",
       "      <td>California</td>\n",
       "      <td>103427</td>\n",
       "    </tr>\n",
       "    <tr>\n",
       "      <th>2</th>\n",
       "      <td>91331</td>\n",
       "      <td>CA</td>\n",
       "      <td>California</td>\n",
       "      <td>102553</td>\n",
       "    </tr>\n",
       "    <tr>\n",
       "      <th>3</th>\n",
       "      <td>94565</td>\n",
       "      <td>CA</td>\n",
       "      <td>California</td>\n",
       "      <td>100700</td>\n",
       "    </tr>\n",
       "    <tr>\n",
       "      <th>4</th>\n",
       "      <td>90044</td>\n",
       "      <td>CA</td>\n",
       "      <td>California</td>\n",
       "      <td>100225</td>\n",
       "    </tr>\n",
       "    <tr>\n",
       "      <th>5</th>\n",
       "      <td>94519</td>\n",
       "      <td>CA</td>\n",
       "      <td>California</td>\n",
       "      <td>20495</td>\n",
       "    </tr>\n",
       "    <tr>\n",
       "      <th>6</th>\n",
       "      <td>93621</td>\n",
       "      <td>CA</td>\n",
       "      <td>California</td>\n",
       "      <td>31</td>\n",
       "    </tr>\n",
       "    <tr>\n",
       "      <th>7</th>\n",
       "      <td>96071</td>\n",
       "      <td>CA</td>\n",
       "      <td>California</td>\n",
       "      <td>86</td>\n",
       "    </tr>\n",
       "    <tr>\n",
       "      <th>8</th>\n",
       "      <td>96040</td>\n",
       "      <td>CA</td>\n",
       "      <td>California</td>\n",
       "      <td>86</td>\n",
       "    </tr>\n",
       "    <tr>\n",
       "      <th>9</th>\n",
       "      <td>95375</td>\n",
       "      <td>CA</td>\n",
       "      <td>California</td>\n",
       "      <td>97</td>\n",
       "    </tr>\n",
       "    <tr>\n",
       "      <th>10</th>\n",
       "      <td>95335</td>\n",
       "      <td>CA</td>\n",
       "      <td>California</td>\n",
       "      <td>97</td>\n",
       "    </tr>\n",
       "  </tbody>\n",
       "</table>\n",
       "</div>"
      ],
      "text/plain": [
       "      zip state_id  state_name  population\n",
       "0   90011       CA  California      109511\n",
       "1   90650       CA  California      103427\n",
       "2   91331       CA  California      102553\n",
       "3   94565       CA  California      100700\n",
       "4   90044       CA  California      100225\n",
       "5   94519       CA  California       20495\n",
       "6   93621       CA  California          31\n",
       "7   96071       CA  California          86\n",
       "8   96040       CA  California          86\n",
       "9   95375       CA  California          97\n",
       "10  95335       CA  California          97"
      ]
     },
     "execution_count": 26,
     "metadata": {},
     "output_type": "execute_result"
    }
   ],
   "source": [
    "ca_zip_df_shorted = ca_zip_df.orderBy(col('population').desc())\n",
    "# Select the top 2 rows\n",
    "top_2 = ca_zip_df_shorted.limit(5)\n",
    "\n",
    "# Select the bottom 2 rows\n",
    "# where the population is greater than 0 to avoid empty rows\n",
    "bottom_2 = ca_zip_df_shorted.where(col('population') > 0).orderBy(col('population').asc()).limit(5)\n",
    "\n",
    "# Calculate the middle row index\n",
    "total_rows = ca_zip_df_shorted.count()\n",
    "middle_index = total_rows // 2\n",
    "\n",
    "# Select the middle row(s)\n",
    "# had to convert to pandas to use tail to get that last row\n",
    "# because pyspark doesn't have a direct way to get the middle row\n",
    "middle_rows = ca_zip_df_shorted.orderBy(col('population').desc()).limit(middle_index + 1).toPandas().tail(1)\n",
    "\n",
    "\n",
    "ca_new = pd.concat([top_2.toPandas(), middle_rows, bottom_2.toPandas()], ignore_index=True)\n",
    "\n",
    "ca_new"
   ]
  },
  {
   "cell_type": "markdown",
   "id": "28ede068",
   "metadata": {},
   "source": [
    "Make Pie Chart to look at population distribution"
   ]
  },
  {
   "cell_type": "code",
   "execution_count": 27,
   "id": "525cefbc",
   "metadata": {},
   "outputs": [],
   "source": [
    "over_100k = ca_zip_df.filter(col('population') > 100000).count()\n",
    "between_80k_100k = ca_zip_df.filter(col('population').between(80000, 100000)).count() # inclusive\n",
    "between_50k_80k =  ca_zip_df.filter((col('population') > 50000) & (col('population') < 80000)).count()\n",
    "between_20k_50k =  ca_zip_df.filter((col('population') > 20000) & (col('population') <= 50000)).count()\n",
    "less_20k =  ca_zip_df.filter(col('population') <= 20000).count()\n",
    "# Create a list of the counts\n",
    "counts = [over_100k, between_80k_100k, between_50k_80k, between_20k_50k, less_20k]\n",
    "# Create a list of the labels\n",
    "labels = ['Over 100k', '80k-100k', '50k-80k', '20k-50k', 'Less than 20k']\n",
    "# create a dataframe to plot\n",
    "counts_df = pd.DataFrame({'Population Range': labels, 'Count': counts})"
   ]
  },
  {
   "cell_type": "code",
   "execution_count": 28,
   "id": "3103c187",
   "metadata": {},
   "outputs": [
    {
     "data": {
      "image/png": "[encoded data removed]",
      "text/plain": [
       "<Figure size 1000x600 with 1 Axes>"
      ]
     },
     "metadata": {},
     "output_type": "display_data"
    }
   ],
   "source": [
    "# Plotting the data using seaborn pie chart\n",
    "plt.figure(figsize=(10, 6))\n",
    "sns.set(style=\"whitegrid\")\n",
    "# Create a pie chart\n",
    "plt.pie(counts_df['Count'], labels=counts_df['Population Range'], autopct='%1.1f%%', startangle=140)\n",
    "plt.title('Population Distribution by ZIP Code in CA')\n",
    "plt.axis('equal')  # Equal aspect ratio ensures that pie is drawn as a circle.\n",
    "plt.show()"
   ]
  },
  {
   "cell_type": "markdown",
   "id": "c2e8ede4",
   "metadata": {},
   "source": [
    "## AGI by buisness by zip, AGI by total income by zip "
   ]
  },
  {
   "cell_type": "code",
   "execution_count": null,
   "id": "b3cb95ce",
   "metadata": {},
   "outputs": [],
   "source": []
  },
  {
   "cell_type": "code",
   "execution_count": null,
   "id": "a7c8e976",
   "metadata": {},
   "outputs": [],
   "source": []
  },
  {
   "cell_type": "code",
   "execution_count": null,
   "id": "491ee755",
   "metadata": {},
   "outputs": [],
   "source": []
  },
  {
   "cell_type": "markdown",
   "id": "7bcee068",
   "metadata": {},
   "source": [
    "## AGI by shore"
   ]
  },
  {
   "cell_type": "code",
   "execution_count": null,
   "id": "7ab710d8",
   "metadata": {},
   "outputs": [],
   "source": []
  },
  {
   "cell_type": "code",
   "execution_count": null,
   "id": "5e7c9df7",
   "metadata": {},
   "outputs": [],
   "source": []
  },
  {
   "cell_type": "code",
   "execution_count": null,
   "id": "72fbcc2a",
   "metadata": {},
   "outputs": [],
   "source": []
  },
  {
   "cell_type": "markdown",
   "id": "3f36e5af",
   "metadata": {},
   "source": [
    "## airport shore nuber of business zipcode"
   ]
  },
  {
   "cell_type": "code",
   "execution_count": null,
   "id": "e27779ac",
   "metadata": {},
   "outputs": [],
   "source": []
  },
  {
   "cell_type": "code",
   "execution_count": null,
   "id": "7478c281",
   "metadata": {},
   "outputs": [],
   "source": []
  },
  {
   "cell_type": "markdown",
   "id": "3eedb142",
   "metadata": {},
   "source": []
  },
  {
   "cell_type": "markdown",
   "id": "1132d252",
   "metadata": {},
   "source": [
    "## number of returns by county"
   ]
  },
  {
   "cell_type": "code",
   "execution_count": null,
   "id": "166c4baf",
   "metadata": {},
   "outputs": [],
   "source": []
  },
  {
   "cell_type": "code",
   "execution_count": null,
   "id": "5a418de3",
   "metadata": {},
   "outputs": [],
   "source": []
  },
  {
   "cell_type": "code",
   "execution_count": null,
   "id": "019877f3",
   "metadata": {},
   "outputs": [],
   "source": []
  },
  {
   "cell_type": "markdown",
   "id": "44de0fbf",
   "metadata": {},
   "source": [
    "## Distance highway/airport Pop by zipcode"
   ]
  },
  {
   "cell_type": "code",
   "execution_count": null,
   "id": "14a7f514",
   "metadata": {},
   "outputs": [],
   "source": []
  },
  {
   "cell_type": "code",
   "execution_count": null,
   "id": "79baba08",
   "metadata": {},
   "outputs": [],
   "source": []
  },
  {
   "cell_type": "code",
   "execution_count": null,
   "id": "ae75fe9a",
   "metadata": {},
   "outputs": [],
   "source": []
  }
 ],
 "metadata": {
  "kernelspec": {
   "display_name": "Python 3",
   "language": "python",
   "name": "python3"
  },
  "language_info": {
   "codemirror_mode": {
    "name": "ipython",
    "version": 3
   },
   "file_extension": ".py",
   "mimetype": "text/x-python",
   "name": "python",
   "nbconvert_exporter": "python",
   "pygments_lexer": "ipython3",
   "version": "3.11.11"
  }
 },
 "nbformat": 4,
 "nbformat_minor": 5
}
